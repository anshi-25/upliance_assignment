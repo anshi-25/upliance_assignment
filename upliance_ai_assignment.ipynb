{
  "nbformat": 4,
  "nbformat_minor": 0,
  "metadata": {
    "colab": {
      "provenance": []
    },
    "kernelspec": {
      "name": "python3",
      "display_name": "Python 3"
    },
    "language_info": {
      "name": "python"
    }
  },
  "cells": [
    {
      "cell_type": "markdown",
      "source": [
        "**Import the Libraries**"
      ],
      "metadata": {
        "id": "sr8p-zRpBXML"
      }
    },
    {
      "cell_type": "code",
      "execution_count": 47,
      "metadata": {
        "id": "W5b3sQlFoaBX"
      },
      "outputs": [],
      "source": [
        "import pandas as pd\n",
        "import numpy as np\n",
        "import matplotlib.pyplot as plt\n",
        "import seaborn as sns"
      ]
    },
    {
      "cell_type": "markdown",
      "source": [
        "**Import the dataset**"
      ],
      "metadata": {
        "id": "Xr2zKf2KBk43"
      }
    },
    {
      "cell_type": "code",
      "source": [
        "file_path = '/content/Data Analyst Intern Assignment - Excel.xlsx'"
      ],
      "metadata": {
        "id": "yBLhIjxQos7s"
      },
      "execution_count": 48,
      "outputs": []
    },
    {
      "cell_type": "code",
      "source": [
        "user_details = pd.read_excel(file_path, sheet_name='UserDetails.csv', engine='openpyxl')\n",
        "print(\"User Details:\\n\")\n",
        "user_details.head()"
      ],
      "metadata": {
        "colab": {
          "base_uri": "https://localhost:8080/",
          "height": 241
        },
        "id": "kStO_t0Zo_qy",
        "outputId": "de1242dd-e245-447f-ed3d-e1a6e5bdef3f"
      },
      "execution_count": 49,
      "outputs": [
        {
          "output_type": "stream",
          "name": "stdout",
          "text": [
            "User Details:\n",
            "\n"
          ]
        },
        {
          "output_type": "execute_result",
          "data": {
            "text/plain": [
              "  User ID      User Name  Age       Location Registration Date         Phone  \\\n",
              "0    U001  Alice Johnson   28       New York        2023-01-15  123-456-7890   \n",
              "1    U002      Bob Smith   35    Los Angeles        2023-02-20  987-654-3210   \n",
              "2    U003    Charlie Lee   42        Chicago        2023-03-10  555-123-4567   \n",
              "3    U004    David Brown   27  San Francisco        2023-04-05  444-333-2222   \n",
              "4    U005     Emma White   30        Seattle        2023-05-22  777-888-9999   \n",
              "\n",
              "               Email Favorite Meal  Total Orders  \n",
              "0    alice@email.com        Dinner            12  \n",
              "1      bob@email.com         Lunch             8  \n",
              "2  charlie@email.com     Breakfast            15  \n",
              "3    david@email.com        Dinner            10  \n",
              "4     emma@email.com         Lunch             9  "
            ],
            "text/html": [
              "\n",
              "  <div id=\"df-a1541c91-7dd2-4d5e-850b-af49993a339b\" class=\"colab-df-container\">\n",
              "    <div>\n",
              "<style scoped>\n",
              "    .dataframe tbody tr th:only-of-type {\n",
              "        vertical-align: middle;\n",
              "    }\n",
              "\n",
              "    .dataframe tbody tr th {\n",
              "        vertical-align: top;\n",
              "    }\n",
              "\n",
              "    .dataframe thead th {\n",
              "        text-align: right;\n",
              "    }\n",
              "</style>\n",
              "<table border=\"1\" class=\"dataframe\">\n",
              "  <thead>\n",
              "    <tr style=\"text-align: right;\">\n",
              "      <th></th>\n",
              "      <th>User ID</th>\n",
              "      <th>User Name</th>\n",
              "      <th>Age</th>\n",
              "      <th>Location</th>\n",
              "      <th>Registration Date</th>\n",
              "      <th>Phone</th>\n",
              "      <th>Email</th>\n",
              "      <th>Favorite Meal</th>\n",
              "      <th>Total Orders</th>\n",
              "    </tr>\n",
              "  </thead>\n",
              "  <tbody>\n",
              "    <tr>\n",
              "      <th>0</th>\n",
              "      <td>U001</td>\n",
              "      <td>Alice Johnson</td>\n",
              "      <td>28</td>\n",
              "      <td>New York</td>\n",
              "      <td>2023-01-15</td>\n",
              "      <td>123-456-7890</td>\n",
              "      <td>alice@email.com</td>\n",
              "      <td>Dinner</td>\n",
              "      <td>12</td>\n",
              "    </tr>\n",
              "    <tr>\n",
              "      <th>1</th>\n",
              "      <td>U002</td>\n",
              "      <td>Bob Smith</td>\n",
              "      <td>35</td>\n",
              "      <td>Los Angeles</td>\n",
              "      <td>2023-02-20</td>\n",
              "      <td>987-654-3210</td>\n",
              "      <td>bob@email.com</td>\n",
              "      <td>Lunch</td>\n",
              "      <td>8</td>\n",
              "    </tr>\n",
              "    <tr>\n",
              "      <th>2</th>\n",
              "      <td>U003</td>\n",
              "      <td>Charlie Lee</td>\n",
              "      <td>42</td>\n",
              "      <td>Chicago</td>\n",
              "      <td>2023-03-10</td>\n",
              "      <td>555-123-4567</td>\n",
              "      <td>charlie@email.com</td>\n",
              "      <td>Breakfast</td>\n",
              "      <td>15</td>\n",
              "    </tr>\n",
              "    <tr>\n",
              "      <th>3</th>\n",
              "      <td>U004</td>\n",
              "      <td>David Brown</td>\n",
              "      <td>27</td>\n",
              "      <td>San Francisco</td>\n",
              "      <td>2023-04-05</td>\n",
              "      <td>444-333-2222</td>\n",
              "      <td>david@email.com</td>\n",
              "      <td>Dinner</td>\n",
              "      <td>10</td>\n",
              "    </tr>\n",
              "    <tr>\n",
              "      <th>4</th>\n",
              "      <td>U005</td>\n",
              "      <td>Emma White</td>\n",
              "      <td>30</td>\n",
              "      <td>Seattle</td>\n",
              "      <td>2023-05-22</td>\n",
              "      <td>777-888-9999</td>\n",
              "      <td>emma@email.com</td>\n",
              "      <td>Lunch</td>\n",
              "      <td>9</td>\n",
              "    </tr>\n",
              "  </tbody>\n",
              "</table>\n",
              "</div>\n",
              "    <div class=\"colab-df-buttons\">\n",
              "\n",
              "  <div class=\"colab-df-container\">\n",
              "    <button class=\"colab-df-convert\" onclick=\"convertToInteractive('df-a1541c91-7dd2-4d5e-850b-af49993a339b')\"\n",
              "            title=\"Convert this dataframe to an interactive table.\"\n",
              "            style=\"display:none;\">\n",
              "\n",
              "  <svg xmlns=\"http://www.w3.org/2000/svg\" height=\"24px\" viewBox=\"0 -960 960 960\">\n",
              "    <path d=\"M120-120v-720h720v720H120Zm60-500h600v-160H180v160Zm220 220h160v-160H400v160Zm0 220h160v-160H400v160ZM180-400h160v-160H180v160Zm440 0h160v-160H620v160ZM180-180h160v-160H180v160Zm440 0h160v-160H620v160Z\"/>\n",
              "  </svg>\n",
              "    </button>\n",
              "\n",
              "  <style>\n",
              "    .colab-df-container {\n",
              "      display:flex;\n",
              "      gap: 12px;\n",
              "    }\n",
              "\n",
              "    .colab-df-convert {\n",
              "      background-color: #E8F0FE;\n",
              "      border: none;\n",
              "      border-radius: 50%;\n",
              "      cursor: pointer;\n",
              "      display: none;\n",
              "      fill: #1967D2;\n",
              "      height: 32px;\n",
              "      padding: 0 0 0 0;\n",
              "      width: 32px;\n",
              "    }\n",
              "\n",
              "    .colab-df-convert:hover {\n",
              "      background-color: #E2EBFA;\n",
              "      box-shadow: 0px 1px 2px rgba(60, 64, 67, 0.3), 0px 1px 3px 1px rgba(60, 64, 67, 0.15);\n",
              "      fill: #174EA6;\n",
              "    }\n",
              "\n",
              "    .colab-df-buttons div {\n",
              "      margin-bottom: 4px;\n",
              "    }\n",
              "\n",
              "    [theme=dark] .colab-df-convert {\n",
              "      background-color: #3B4455;\n",
              "      fill: #D2E3FC;\n",
              "    }\n",
              "\n",
              "    [theme=dark] .colab-df-convert:hover {\n",
              "      background-color: #434B5C;\n",
              "      box-shadow: 0px 1px 3px 1px rgba(0, 0, 0, 0.15);\n",
              "      filter: drop-shadow(0px 1px 2px rgba(0, 0, 0, 0.3));\n",
              "      fill: #FFFFFF;\n",
              "    }\n",
              "  </style>\n",
              "\n",
              "    <script>\n",
              "      const buttonEl =\n",
              "        document.querySelector('#df-a1541c91-7dd2-4d5e-850b-af49993a339b button.colab-df-convert');\n",
              "      buttonEl.style.display =\n",
              "        google.colab.kernel.accessAllowed ? 'block' : 'none';\n",
              "\n",
              "      async function convertToInteractive(key) {\n",
              "        const element = document.querySelector('#df-a1541c91-7dd2-4d5e-850b-af49993a339b');\n",
              "        const dataTable =\n",
              "          await google.colab.kernel.invokeFunction('convertToInteractive',\n",
              "                                                    [key], {});\n",
              "        if (!dataTable) return;\n",
              "\n",
              "        const docLinkHtml = 'Like what you see? Visit the ' +\n",
              "          '<a target=\"_blank\" href=https://colab.research.google.com/notebooks/data_table.ipynb>data table notebook</a>'\n",
              "          + ' to learn more about interactive tables.';\n",
              "        element.innerHTML = '';\n",
              "        dataTable['output_type'] = 'display_data';\n",
              "        await google.colab.output.renderOutput(dataTable, element);\n",
              "        const docLink = document.createElement('div');\n",
              "        docLink.innerHTML = docLinkHtml;\n",
              "        element.appendChild(docLink);\n",
              "      }\n",
              "    </script>\n",
              "  </div>\n",
              "\n",
              "\n",
              "<div id=\"df-a2f417fc-47bc-471c-8cff-b505a4fcfa10\">\n",
              "  <button class=\"colab-df-quickchart\" onclick=\"quickchart('df-a2f417fc-47bc-471c-8cff-b505a4fcfa10')\"\n",
              "            title=\"Suggest charts\"\n",
              "            style=\"display:none;\">\n",
              "\n",
              "<svg xmlns=\"http://www.w3.org/2000/svg\" height=\"24px\"viewBox=\"0 0 24 24\"\n",
              "     width=\"24px\">\n",
              "    <g>\n",
              "        <path d=\"M19 3H5c-1.1 0-2 .9-2 2v14c0 1.1.9 2 2 2h14c1.1 0 2-.9 2-2V5c0-1.1-.9-2-2-2zM9 17H7v-7h2v7zm4 0h-2V7h2v10zm4 0h-2v-4h2v4z\"/>\n",
              "    </g>\n",
              "</svg>\n",
              "  </button>\n",
              "\n",
              "<style>\n",
              "  .colab-df-quickchart {\n",
              "      --bg-color: #E8F0FE;\n",
              "      --fill-color: #1967D2;\n",
              "      --hover-bg-color: #E2EBFA;\n",
              "      --hover-fill-color: #174EA6;\n",
              "      --disabled-fill-color: #AAA;\n",
              "      --disabled-bg-color: #DDD;\n",
              "  }\n",
              "\n",
              "  [theme=dark] .colab-df-quickchart {\n",
              "      --bg-color: #3B4455;\n",
              "      --fill-color: #D2E3FC;\n",
              "      --hover-bg-color: #434B5C;\n",
              "      --hover-fill-color: #FFFFFF;\n",
              "      --disabled-bg-color: #3B4455;\n",
              "      --disabled-fill-color: #666;\n",
              "  }\n",
              "\n",
              "  .colab-df-quickchart {\n",
              "    background-color: var(--bg-color);\n",
              "    border: none;\n",
              "    border-radius: 50%;\n",
              "    cursor: pointer;\n",
              "    display: none;\n",
              "    fill: var(--fill-color);\n",
              "    height: 32px;\n",
              "    padding: 0;\n",
              "    width: 32px;\n",
              "  }\n",
              "\n",
              "  .colab-df-quickchart:hover {\n",
              "    background-color: var(--hover-bg-color);\n",
              "    box-shadow: 0 1px 2px rgba(60, 64, 67, 0.3), 0 1px 3px 1px rgba(60, 64, 67, 0.15);\n",
              "    fill: var(--button-hover-fill-color);\n",
              "  }\n",
              "\n",
              "  .colab-df-quickchart-complete:disabled,\n",
              "  .colab-df-quickchart-complete:disabled:hover {\n",
              "    background-color: var(--disabled-bg-color);\n",
              "    fill: var(--disabled-fill-color);\n",
              "    box-shadow: none;\n",
              "  }\n",
              "\n",
              "  .colab-df-spinner {\n",
              "    border: 2px solid var(--fill-color);\n",
              "    border-color: transparent;\n",
              "    border-bottom-color: var(--fill-color);\n",
              "    animation:\n",
              "      spin 1s steps(1) infinite;\n",
              "  }\n",
              "\n",
              "  @keyframes spin {\n",
              "    0% {\n",
              "      border-color: transparent;\n",
              "      border-bottom-color: var(--fill-color);\n",
              "      border-left-color: var(--fill-color);\n",
              "    }\n",
              "    20% {\n",
              "      border-color: transparent;\n",
              "      border-left-color: var(--fill-color);\n",
              "      border-top-color: var(--fill-color);\n",
              "    }\n",
              "    30% {\n",
              "      border-color: transparent;\n",
              "      border-left-color: var(--fill-color);\n",
              "      border-top-color: var(--fill-color);\n",
              "      border-right-color: var(--fill-color);\n",
              "    }\n",
              "    40% {\n",
              "      border-color: transparent;\n",
              "      border-right-color: var(--fill-color);\n",
              "      border-top-color: var(--fill-color);\n",
              "    }\n",
              "    60% {\n",
              "      border-color: transparent;\n",
              "      border-right-color: var(--fill-color);\n",
              "    }\n",
              "    80% {\n",
              "      border-color: transparent;\n",
              "      border-right-color: var(--fill-color);\n",
              "      border-bottom-color: var(--fill-color);\n",
              "    }\n",
              "    90% {\n",
              "      border-color: transparent;\n",
              "      border-bottom-color: var(--fill-color);\n",
              "    }\n",
              "  }\n",
              "</style>\n",
              "\n",
              "  <script>\n",
              "    async function quickchart(key) {\n",
              "      const quickchartButtonEl =\n",
              "        document.querySelector('#' + key + ' button');\n",
              "      quickchartButtonEl.disabled = true;  // To prevent multiple clicks.\n",
              "      quickchartButtonEl.classList.add('colab-df-spinner');\n",
              "      try {\n",
              "        const charts = await google.colab.kernel.invokeFunction(\n",
              "            'suggestCharts', [key], {});\n",
              "      } catch (error) {\n",
              "        console.error('Error during call to suggestCharts:', error);\n",
              "      }\n",
              "      quickchartButtonEl.classList.remove('colab-df-spinner');\n",
              "      quickchartButtonEl.classList.add('colab-df-quickchart-complete');\n",
              "    }\n",
              "    (() => {\n",
              "      let quickchartButtonEl =\n",
              "        document.querySelector('#df-a2f417fc-47bc-471c-8cff-b505a4fcfa10 button');\n",
              "      quickchartButtonEl.style.display =\n",
              "        google.colab.kernel.accessAllowed ? 'block' : 'none';\n",
              "    })();\n",
              "  </script>\n",
              "</div>\n",
              "\n",
              "    </div>\n",
              "  </div>\n"
            ],
            "application/vnd.google.colaboratory.intrinsic+json": {
              "type": "dataframe",
              "variable_name": "user_details",
              "summary": "{\n  \"name\": \"user_details\",\n  \"rows\": 10,\n  \"fields\": [\n    {\n      \"column\": \"User ID\",\n      \"properties\": {\n        \"dtype\": \"string\",\n        \"num_unique_values\": 10,\n        \"samples\": [\n          \"U009\",\n          \"U002\",\n          \"U006\"\n        ],\n        \"semantic_type\": \"\",\n        \"description\": \"\"\n      }\n    },\n    {\n      \"column\": \"User Name\",\n      \"properties\": {\n        \"dtype\": \"string\",\n        \"num_unique_values\": 10,\n        \"samples\": [\n          \"Irene Moore\",\n          \"Bob Smith\",\n          \"Frank Green\"\n        ],\n        \"semantic_type\": \"\",\n        \"description\": \"\"\n      }\n    },\n    {\n      \"column\": \"Age\",\n      \"properties\": {\n        \"dtype\": \"number\",\n        \"std\": 5,\n        \"min\": 25,\n        \"max\": 42,\n        \"num_unique_values\": 10,\n        \"samples\": [\n          33,\n          35,\n          25\n        ],\n        \"semantic_type\": \"\",\n        \"description\": \"\"\n      }\n    },\n    {\n      \"column\": \"Location\",\n      \"properties\": {\n        \"dtype\": \"string\",\n        \"num_unique_values\": 10,\n        \"samples\": [\n          \"Dallas\",\n          \"Los Angeles\",\n          \"Austin\"\n        ],\n        \"semantic_type\": \"\",\n        \"description\": \"\"\n      }\n    },\n    {\n      \"column\": \"Registration Date\",\n      \"properties\": {\n        \"dtype\": \"date\",\n        \"min\": \"2023-01-15 00:00:00\",\n        \"max\": \"2023-10-10 00:00:00\",\n        \"num_unique_values\": 10,\n        \"samples\": [\n          \"2023-09-01 00:00:00\",\n          \"2023-02-20 00:00:00\",\n          \"2023-06-15 00:00:00\"\n        ],\n        \"semantic_type\": \"\",\n        \"description\": \"\"\n      }\n    },\n    {\n      \"column\": \"Phone\",\n      \"properties\": {\n        \"dtype\": \"string\",\n        \"num_unique_values\": 10,\n        \"samples\": [\n          \"202-303-4040\",\n          \"987-654-3210\",\n          \"888-777-6666\"\n        ],\n        \"semantic_type\": \"\",\n        \"description\": \"\"\n      }\n    },\n    {\n      \"column\": \"Email\",\n      \"properties\": {\n        \"dtype\": \"string\",\n        \"num_unique_values\": 10,\n        \"samples\": [\n          \"irene@email.com\",\n          \"bob@email.com\",\n          \"frank@email.com\"\n        ],\n        \"semantic_type\": \"\",\n        \"description\": \"\"\n      }\n    },\n    {\n      \"column\": \"Favorite Meal\",\n      \"properties\": {\n        \"dtype\": \"category\",\n        \"num_unique_values\": 3,\n        \"samples\": [\n          \"Dinner\",\n          \"Lunch\",\n          \"Breakfast\"\n        ],\n        \"semantic_type\": \"\",\n        \"description\": \"\"\n      }\n    },\n    {\n      \"column\": \"Total Orders\",\n      \"properties\": {\n        \"dtype\": \"number\",\n        \"std\": 3,\n        \"min\": 5,\n        \"max\": 15,\n        \"num_unique_values\": 9,\n        \"samples\": [\n          5,\n          8,\n          7\n        ],\n        \"semantic_type\": \"\",\n        \"description\": \"\"\n      }\n    }\n  ]\n}"
            }
          },
          "metadata": {},
          "execution_count": 49
        }
      ]
    },
    {
      "cell_type": "code",
      "source": [
        "print(\"User Details Information:\\n\")\n",
        "user_details.info()"
      ],
      "metadata": {
        "colab": {
          "base_uri": "https://localhost:8080/"
        },
        "id": "bVWhK1jZsYFt",
        "outputId": "0c7c6acb-cd8e-47f7-8027-d8cb074a70cc"
      },
      "execution_count": 50,
      "outputs": [
        {
          "output_type": "stream",
          "name": "stdout",
          "text": [
            "User Details Information:\n",
            "\n",
            "<class 'pandas.core.frame.DataFrame'>\n",
            "RangeIndex: 10 entries, 0 to 9\n",
            "Data columns (total 9 columns):\n",
            " #   Column             Non-Null Count  Dtype         \n",
            "---  ------             --------------  -----         \n",
            " 0   User ID            10 non-null     object        \n",
            " 1   User Name          10 non-null     object        \n",
            " 2   Age                10 non-null     int64         \n",
            " 3   Location           10 non-null     object        \n",
            " 4   Registration Date  10 non-null     datetime64[ns]\n",
            " 5   Phone              10 non-null     object        \n",
            " 6   Email              10 non-null     object        \n",
            " 7   Favorite Meal      10 non-null     object        \n",
            " 8   Total Orders       10 non-null     int64         \n",
            "dtypes: datetime64[ns](1), int64(2), object(6)\n",
            "memory usage: 848.0+ bytes\n"
          ]
        }
      ]
    },
    {
      "cell_type": "code",
      "source": [
        "print(\"Check for null values in user detail dataset:\\n\")\n",
        "user_details.isnull().sum()"
      ],
      "metadata": {
        "colab": {
          "base_uri": "https://localhost:8080/",
          "height": 401
        },
        "id": "PbevnpzssYMJ",
        "outputId": "f45a8198-121e-47ef-dce9-94d9e1d51fe3"
      },
      "execution_count": 51,
      "outputs": [
        {
          "output_type": "stream",
          "name": "stdout",
          "text": [
            "Check for null values in user detail dataset:\n",
            "\n"
          ]
        },
        {
          "output_type": "execute_result",
          "data": {
            "text/plain": [
              "User ID              0\n",
              "User Name            0\n",
              "Age                  0\n",
              "Location             0\n",
              "Registration Date    0\n",
              "Phone                0\n",
              "Email                0\n",
              "Favorite Meal        0\n",
              "Total Orders         0\n",
              "dtype: int64"
            ],
            "text/html": [
              "<div>\n",
              "<style scoped>\n",
              "    .dataframe tbody tr th:only-of-type {\n",
              "        vertical-align: middle;\n",
              "    }\n",
              "\n",
              "    .dataframe tbody tr th {\n",
              "        vertical-align: top;\n",
              "    }\n",
              "\n",
              "    .dataframe thead th {\n",
              "        text-align: right;\n",
              "    }\n",
              "</style>\n",
              "<table border=\"1\" class=\"dataframe\">\n",
              "  <thead>\n",
              "    <tr style=\"text-align: right;\">\n",
              "      <th></th>\n",
              "      <th>0</th>\n",
              "    </tr>\n",
              "  </thead>\n",
              "  <tbody>\n",
              "    <tr>\n",
              "      <th>User ID</th>\n",
              "      <td>0</td>\n",
              "    </tr>\n",
              "    <tr>\n",
              "      <th>User Name</th>\n",
              "      <td>0</td>\n",
              "    </tr>\n",
              "    <tr>\n",
              "      <th>Age</th>\n",
              "      <td>0</td>\n",
              "    </tr>\n",
              "    <tr>\n",
              "      <th>Location</th>\n",
              "      <td>0</td>\n",
              "    </tr>\n",
              "    <tr>\n",
              "      <th>Registration Date</th>\n",
              "      <td>0</td>\n",
              "    </tr>\n",
              "    <tr>\n",
              "      <th>Phone</th>\n",
              "      <td>0</td>\n",
              "    </tr>\n",
              "    <tr>\n",
              "      <th>Email</th>\n",
              "      <td>0</td>\n",
              "    </tr>\n",
              "    <tr>\n",
              "      <th>Favorite Meal</th>\n",
              "      <td>0</td>\n",
              "    </tr>\n",
              "    <tr>\n",
              "      <th>Total Orders</th>\n",
              "      <td>0</td>\n",
              "    </tr>\n",
              "  </tbody>\n",
              "</table>\n",
              "</div><br><label><b>dtype:</b> int64</label>"
            ]
          },
          "metadata": {},
          "execution_count": 51
        }
      ]
    },
    {
      "cell_type": "code",
      "source": [
        "print(\"Check for duplicates in user detail dataset:\")\n",
        "user_details.duplicated().sum()"
      ],
      "metadata": {
        "colab": {
          "base_uri": "https://localhost:8080/"
        },
        "id": "oAs2WIAlywe_",
        "outputId": "737ef44a-bd5b-4701-f9dc-64a7ac4c8007"
      },
      "execution_count": 52,
      "outputs": [
        {
          "output_type": "stream",
          "name": "stdout",
          "text": [
            "Check for duplicates in user detail dataset:\n"
          ]
        },
        {
          "output_type": "execute_result",
          "data": {
            "text/plain": [
              "0"
            ]
          },
          "metadata": {},
          "execution_count": 52
        }
      ]
    },
    {
      "cell_type": "code",
      "source": [
        "cooking_sessions = pd.read_excel(file_path, sheet_name='CookingSessions.csv', engine='openpyxl')\n",
        "print(\"Cooking Sessions:\\n\")\n",
        "cooking_sessions.head()"
      ],
      "metadata": {
        "colab": {
          "base_uri": "https://localhost:8080/",
          "height": 241
        },
        "id": "q11t138grraf",
        "outputId": "f508d324-5656-4d3d-cabe-f3d4d7c9ba42"
      },
      "execution_count": 53,
      "outputs": [
        {
          "output_type": "stream",
          "name": "stdout",
          "text": [
            "Cooking Sessions:\n",
            "\n"
          ]
        },
        {
          "output_type": "execute_result",
          "data": {
            "text/plain": [
              "  Session ID User ID        Dish Name  Meal Type       Session Start  \\\n",
              "0       S001    U001        Spaghetti     Dinner 2024-12-01 19:00:00   \n",
              "1       S002    U002     Caesar Salad      Lunch 2024-12-01 12:00:00   \n",
              "2       S003    U003  Grilled Chicken     Dinner 2024-12-02 19:30:00   \n",
              "3       S004    U001         Pancakes  Breakfast 2024-12-02 07:30:00   \n",
              "4       S005    U004     Caesar Salad      Lunch 2024-12-03 13:00:00   \n",
              "\n",
              "          Session End  Duration (mins)  Session Rating  \n",
              "0 2024-12-01 19:30:00               30             4.5  \n",
              "1 2024-12-01 12:20:00               20             4.0  \n",
              "2 2024-12-02 20:10:00               40             4.8  \n",
              "3 2024-12-02 08:00:00               30             4.2  \n",
              "4 2024-12-03 13:15:00               15             4.7  "
            ],
            "text/html": [
              "\n",
              "  <div id=\"df-cc66cb76-2f4f-497a-9a28-8c78331d84e5\" class=\"colab-df-container\">\n",
              "    <div>\n",
              "<style scoped>\n",
              "    .dataframe tbody tr th:only-of-type {\n",
              "        vertical-align: middle;\n",
              "    }\n",
              "\n",
              "    .dataframe tbody tr th {\n",
              "        vertical-align: top;\n",
              "    }\n",
              "\n",
              "    .dataframe thead th {\n",
              "        text-align: right;\n",
              "    }\n",
              "</style>\n",
              "<table border=\"1\" class=\"dataframe\">\n",
              "  <thead>\n",
              "    <tr style=\"text-align: right;\">\n",
              "      <th></th>\n",
              "      <th>Session ID</th>\n",
              "      <th>User ID</th>\n",
              "      <th>Dish Name</th>\n",
              "      <th>Meal Type</th>\n",
              "      <th>Session Start</th>\n",
              "      <th>Session End</th>\n",
              "      <th>Duration (mins)</th>\n",
              "      <th>Session Rating</th>\n",
              "    </tr>\n",
              "  </thead>\n",
              "  <tbody>\n",
              "    <tr>\n",
              "      <th>0</th>\n",
              "      <td>S001</td>\n",
              "      <td>U001</td>\n",
              "      <td>Spaghetti</td>\n",
              "      <td>Dinner</td>\n",
              "      <td>2024-12-01 19:00:00</td>\n",
              "      <td>2024-12-01 19:30:00</td>\n",
              "      <td>30</td>\n",
              "      <td>4.5</td>\n",
              "    </tr>\n",
              "    <tr>\n",
              "      <th>1</th>\n",
              "      <td>S002</td>\n",
              "      <td>U002</td>\n",
              "      <td>Caesar Salad</td>\n",
              "      <td>Lunch</td>\n",
              "      <td>2024-12-01 12:00:00</td>\n",
              "      <td>2024-12-01 12:20:00</td>\n",
              "      <td>20</td>\n",
              "      <td>4.0</td>\n",
              "    </tr>\n",
              "    <tr>\n",
              "      <th>2</th>\n",
              "      <td>S003</td>\n",
              "      <td>U003</td>\n",
              "      <td>Grilled Chicken</td>\n",
              "      <td>Dinner</td>\n",
              "      <td>2024-12-02 19:30:00</td>\n",
              "      <td>2024-12-02 20:10:00</td>\n",
              "      <td>40</td>\n",
              "      <td>4.8</td>\n",
              "    </tr>\n",
              "    <tr>\n",
              "      <th>3</th>\n",
              "      <td>S004</td>\n",
              "      <td>U001</td>\n",
              "      <td>Pancakes</td>\n",
              "      <td>Breakfast</td>\n",
              "      <td>2024-12-02 07:30:00</td>\n",
              "      <td>2024-12-02 08:00:00</td>\n",
              "      <td>30</td>\n",
              "      <td>4.2</td>\n",
              "    </tr>\n",
              "    <tr>\n",
              "      <th>4</th>\n",
              "      <td>S005</td>\n",
              "      <td>U004</td>\n",
              "      <td>Caesar Salad</td>\n",
              "      <td>Lunch</td>\n",
              "      <td>2024-12-03 13:00:00</td>\n",
              "      <td>2024-12-03 13:15:00</td>\n",
              "      <td>15</td>\n",
              "      <td>4.7</td>\n",
              "    </tr>\n",
              "  </tbody>\n",
              "</table>\n",
              "</div>\n",
              "    <div class=\"colab-df-buttons\">\n",
              "\n",
              "  <div class=\"colab-df-container\">\n",
              "    <button class=\"colab-df-convert\" onclick=\"convertToInteractive('df-cc66cb76-2f4f-497a-9a28-8c78331d84e5')\"\n",
              "            title=\"Convert this dataframe to an interactive table.\"\n",
              "            style=\"display:none;\">\n",
              "\n",
              "  <svg xmlns=\"http://www.w3.org/2000/svg\" height=\"24px\" viewBox=\"0 -960 960 960\">\n",
              "    <path d=\"M120-120v-720h720v720H120Zm60-500h600v-160H180v160Zm220 220h160v-160H400v160Zm0 220h160v-160H400v160ZM180-400h160v-160H180v160Zm440 0h160v-160H620v160ZM180-180h160v-160H180v160Zm440 0h160v-160H620v160Z\"/>\n",
              "  </svg>\n",
              "    </button>\n",
              "\n",
              "  <style>\n",
              "    .colab-df-container {\n",
              "      display:flex;\n",
              "      gap: 12px;\n",
              "    }\n",
              "\n",
              "    .colab-df-convert {\n",
              "      background-color: #E8F0FE;\n",
              "      border: none;\n",
              "      border-radius: 50%;\n",
              "      cursor: pointer;\n",
              "      display: none;\n",
              "      fill: #1967D2;\n",
              "      height: 32px;\n",
              "      padding: 0 0 0 0;\n",
              "      width: 32px;\n",
              "    }\n",
              "\n",
              "    .colab-df-convert:hover {\n",
              "      background-color: #E2EBFA;\n",
              "      box-shadow: 0px 1px 2px rgba(60, 64, 67, 0.3), 0px 1px 3px 1px rgba(60, 64, 67, 0.15);\n",
              "      fill: #174EA6;\n",
              "    }\n",
              "\n",
              "    .colab-df-buttons div {\n",
              "      margin-bottom: 4px;\n",
              "    }\n",
              "\n",
              "    [theme=dark] .colab-df-convert {\n",
              "      background-color: #3B4455;\n",
              "      fill: #D2E3FC;\n",
              "    }\n",
              "\n",
              "    [theme=dark] .colab-df-convert:hover {\n",
              "      background-color: #434B5C;\n",
              "      box-shadow: 0px 1px 3px 1px rgba(0, 0, 0, 0.15);\n",
              "      filter: drop-shadow(0px 1px 2px rgba(0, 0, 0, 0.3));\n",
              "      fill: #FFFFFF;\n",
              "    }\n",
              "  </style>\n",
              "\n",
              "    <script>\n",
              "      const buttonEl =\n",
              "        document.querySelector('#df-cc66cb76-2f4f-497a-9a28-8c78331d84e5 button.colab-df-convert');\n",
              "      buttonEl.style.display =\n",
              "        google.colab.kernel.accessAllowed ? 'block' : 'none';\n",
              "\n",
              "      async function convertToInteractive(key) {\n",
              "        const element = document.querySelector('#df-cc66cb76-2f4f-497a-9a28-8c78331d84e5');\n",
              "        const dataTable =\n",
              "          await google.colab.kernel.invokeFunction('convertToInteractive',\n",
              "                                                    [key], {});\n",
              "        if (!dataTable) return;\n",
              "\n",
              "        const docLinkHtml = 'Like what you see? Visit the ' +\n",
              "          '<a target=\"_blank\" href=https://colab.research.google.com/notebooks/data_table.ipynb>data table notebook</a>'\n",
              "          + ' to learn more about interactive tables.';\n",
              "        element.innerHTML = '';\n",
              "        dataTable['output_type'] = 'display_data';\n",
              "        await google.colab.output.renderOutput(dataTable, element);\n",
              "        const docLink = document.createElement('div');\n",
              "        docLink.innerHTML = docLinkHtml;\n",
              "        element.appendChild(docLink);\n",
              "      }\n",
              "    </script>\n",
              "  </div>\n",
              "\n",
              "\n",
              "<div id=\"df-065a7a80-384a-44fc-9302-e77500d41fb4\">\n",
              "  <button class=\"colab-df-quickchart\" onclick=\"quickchart('df-065a7a80-384a-44fc-9302-e77500d41fb4')\"\n",
              "            title=\"Suggest charts\"\n",
              "            style=\"display:none;\">\n",
              "\n",
              "<svg xmlns=\"http://www.w3.org/2000/svg\" height=\"24px\"viewBox=\"0 0 24 24\"\n",
              "     width=\"24px\">\n",
              "    <g>\n",
              "        <path d=\"M19 3H5c-1.1 0-2 .9-2 2v14c0 1.1.9 2 2 2h14c1.1 0 2-.9 2-2V5c0-1.1-.9-2-2-2zM9 17H7v-7h2v7zm4 0h-2V7h2v10zm4 0h-2v-4h2v4z\"/>\n",
              "    </g>\n",
              "</svg>\n",
              "  </button>\n",
              "\n",
              "<style>\n",
              "  .colab-df-quickchart {\n",
              "      --bg-color: #E8F0FE;\n",
              "      --fill-color: #1967D2;\n",
              "      --hover-bg-color: #E2EBFA;\n",
              "      --hover-fill-color: #174EA6;\n",
              "      --disabled-fill-color: #AAA;\n",
              "      --disabled-bg-color: #DDD;\n",
              "  }\n",
              "\n",
              "  [theme=dark] .colab-df-quickchart {\n",
              "      --bg-color: #3B4455;\n",
              "      --fill-color: #D2E3FC;\n",
              "      --hover-bg-color: #434B5C;\n",
              "      --hover-fill-color: #FFFFFF;\n",
              "      --disabled-bg-color: #3B4455;\n",
              "      --disabled-fill-color: #666;\n",
              "  }\n",
              "\n",
              "  .colab-df-quickchart {\n",
              "    background-color: var(--bg-color);\n",
              "    border: none;\n",
              "    border-radius: 50%;\n",
              "    cursor: pointer;\n",
              "    display: none;\n",
              "    fill: var(--fill-color);\n",
              "    height: 32px;\n",
              "    padding: 0;\n",
              "    width: 32px;\n",
              "  }\n",
              "\n",
              "  .colab-df-quickchart:hover {\n",
              "    background-color: var(--hover-bg-color);\n",
              "    box-shadow: 0 1px 2px rgba(60, 64, 67, 0.3), 0 1px 3px 1px rgba(60, 64, 67, 0.15);\n",
              "    fill: var(--button-hover-fill-color);\n",
              "  }\n",
              "\n",
              "  .colab-df-quickchart-complete:disabled,\n",
              "  .colab-df-quickchart-complete:disabled:hover {\n",
              "    background-color: var(--disabled-bg-color);\n",
              "    fill: var(--disabled-fill-color);\n",
              "    box-shadow: none;\n",
              "  }\n",
              "\n",
              "  .colab-df-spinner {\n",
              "    border: 2px solid var(--fill-color);\n",
              "    border-color: transparent;\n",
              "    border-bottom-color: var(--fill-color);\n",
              "    animation:\n",
              "      spin 1s steps(1) infinite;\n",
              "  }\n",
              "\n",
              "  @keyframes spin {\n",
              "    0% {\n",
              "      border-color: transparent;\n",
              "      border-bottom-color: var(--fill-color);\n",
              "      border-left-color: var(--fill-color);\n",
              "    }\n",
              "    20% {\n",
              "      border-color: transparent;\n",
              "      border-left-color: var(--fill-color);\n",
              "      border-top-color: var(--fill-color);\n",
              "    }\n",
              "    30% {\n",
              "      border-color: transparent;\n",
              "      border-left-color: var(--fill-color);\n",
              "      border-top-color: var(--fill-color);\n",
              "      border-right-color: var(--fill-color);\n",
              "    }\n",
              "    40% {\n",
              "      border-color: transparent;\n",
              "      border-right-color: var(--fill-color);\n",
              "      border-top-color: var(--fill-color);\n",
              "    }\n",
              "    60% {\n",
              "      border-color: transparent;\n",
              "      border-right-color: var(--fill-color);\n",
              "    }\n",
              "    80% {\n",
              "      border-color: transparent;\n",
              "      border-right-color: var(--fill-color);\n",
              "      border-bottom-color: var(--fill-color);\n",
              "    }\n",
              "    90% {\n",
              "      border-color: transparent;\n",
              "      border-bottom-color: var(--fill-color);\n",
              "    }\n",
              "  }\n",
              "</style>\n",
              "\n",
              "  <script>\n",
              "    async function quickchart(key) {\n",
              "      const quickchartButtonEl =\n",
              "        document.querySelector('#' + key + ' button');\n",
              "      quickchartButtonEl.disabled = true;  // To prevent multiple clicks.\n",
              "      quickchartButtonEl.classList.add('colab-df-spinner');\n",
              "      try {\n",
              "        const charts = await google.colab.kernel.invokeFunction(\n",
              "            'suggestCharts', [key], {});\n",
              "      } catch (error) {\n",
              "        console.error('Error during call to suggestCharts:', error);\n",
              "      }\n",
              "      quickchartButtonEl.classList.remove('colab-df-spinner');\n",
              "      quickchartButtonEl.classList.add('colab-df-quickchart-complete');\n",
              "    }\n",
              "    (() => {\n",
              "      let quickchartButtonEl =\n",
              "        document.querySelector('#df-065a7a80-384a-44fc-9302-e77500d41fb4 button');\n",
              "      quickchartButtonEl.style.display =\n",
              "        google.colab.kernel.accessAllowed ? 'block' : 'none';\n",
              "    })();\n",
              "  </script>\n",
              "</div>\n",
              "\n",
              "    </div>\n",
              "  </div>\n"
            ],
            "application/vnd.google.colaboratory.intrinsic+json": {
              "type": "dataframe",
              "variable_name": "cooking_sessions",
              "summary": "{\n  \"name\": \"cooking_sessions\",\n  \"rows\": 16,\n  \"fields\": [\n    {\n      \"column\": \"Session ID\",\n      \"properties\": {\n        \"dtype\": \"string\",\n        \"num_unique_values\": 16,\n        \"samples\": [\n          \"S001\",\n          \"S002\",\n          \"S006\"\n        ],\n        \"semantic_type\": \"\",\n        \"description\": \"\"\n      }\n    },\n    {\n      \"column\": \"User ID\",\n      \"properties\": {\n        \"dtype\": \"string\",\n        \"num_unique_values\": 8,\n        \"samples\": [\n          \"U002\",\n          \"U006\",\n          \"U001\"\n        ],\n        \"semantic_type\": \"\",\n        \"description\": \"\"\n      }\n    },\n    {\n      \"column\": \"Dish Name\",\n      \"properties\": {\n        \"dtype\": \"category\",\n        \"num_unique_values\": 6,\n        \"samples\": [\n          \"Spaghetti\",\n          \"Caesar Salad\",\n          \"Oatmeal\"\n        ],\n        \"semantic_type\": \"\",\n        \"description\": \"\"\n      }\n    },\n    {\n      \"column\": \"Meal Type\",\n      \"properties\": {\n        \"dtype\": \"category\",\n        \"num_unique_values\": 3,\n        \"samples\": [\n          \"Dinner\",\n          \"Lunch\",\n          \"Breakfast\"\n        ],\n        \"semantic_type\": \"\",\n        \"description\": \"\"\n      }\n    },\n    {\n      \"column\": \"Session Start\",\n      \"properties\": {\n        \"dtype\": \"date\",\n        \"min\": \"2024-12-01 12:00:00\",\n        \"max\": \"2024-12-08 19:30:00\",\n        \"num_unique_values\": 16,\n        \"samples\": [\n          \"2024-12-01 19:00:00\",\n          \"2024-12-01 12:00:00\",\n          \"2024-12-03 18:30:00\"\n        ],\n        \"semantic_type\": \"\",\n        \"description\": \"\"\n      }\n    },\n    {\n      \"column\": \"Session End\",\n      \"properties\": {\n        \"dtype\": \"date\",\n        \"min\": \"2024-12-01 12:20:00\",\n        \"max\": \"2024-12-08 20:10:00\",\n        \"num_unique_values\": 16,\n        \"samples\": [\n          \"2024-12-01 19:30:00\",\n          \"2024-12-01 12:20:00\",\n          \"2024-12-03 19:00:00\"\n        ],\n        \"semantic_type\": \"\",\n        \"description\": \"\"\n      }\n    },\n    {\n      \"column\": \"Duration (mins)\",\n      \"properties\": {\n        \"dtype\": \"number\",\n        \"std\": 10,\n        \"min\": 10,\n        \"max\": 45,\n        \"num_unique_values\": 6,\n        \"samples\": [\n          30,\n          20,\n          10\n        ],\n        \"semantic_type\": \"\",\n        \"description\": \"\"\n      }\n    },\n    {\n      \"column\": \"Session Rating\",\n      \"properties\": {\n        \"dtype\": \"number\",\n        \"std\": 0.2926174977679906,\n        \"min\": 4.0,\n        \"max\": 5.0,\n        \"num_unique_values\": 11,\n        \"samples\": [\n          4.3,\n          4.5,\n          4.1\n        ],\n        \"semantic_type\": \"\",\n        \"description\": \"\"\n      }\n    }\n  ]\n}"
            }
          },
          "metadata": {},
          "execution_count": 53
        }
      ]
    },
    {
      "cell_type": "code",
      "source": [
        "print(\"Cooking_Sessions Information:\\n\")\n",
        "cooking_sessions.info()"
      ],
      "metadata": {
        "colab": {
          "base_uri": "https://localhost:8080/"
        },
        "id": "pXGxzn2Xu_Nl",
        "outputId": "440e0b6f-c231-4ab8-cb1a-0b8c372bf2f9"
      },
      "execution_count": 54,
      "outputs": [
        {
          "output_type": "stream",
          "name": "stdout",
          "text": [
            "Cooking_Sessions Information:\n",
            "\n",
            "<class 'pandas.core.frame.DataFrame'>\n",
            "RangeIndex: 16 entries, 0 to 15\n",
            "Data columns (total 8 columns):\n",
            " #   Column           Non-Null Count  Dtype         \n",
            "---  ------           --------------  -----         \n",
            " 0   Session ID       16 non-null     object        \n",
            " 1   User ID          16 non-null     object        \n",
            " 2   Dish Name        16 non-null     object        \n",
            " 3   Meal Type        16 non-null     object        \n",
            " 4   Session Start    16 non-null     datetime64[ns]\n",
            " 5   Session End      16 non-null     datetime64[ns]\n",
            " 6   Duration (mins)  16 non-null     int64         \n",
            " 7   Session Rating   16 non-null     float64       \n",
            "dtypes: datetime64[ns](2), float64(1), int64(1), object(4)\n",
            "memory usage: 1.1+ KB\n"
          ]
        }
      ]
    },
    {
      "cell_type": "code",
      "source": [
        "print(\"Check for null values in cooking session dataset:\")\n",
        "cooking_sessions.isnull().sum()"
      ],
      "metadata": {
        "colab": {
          "base_uri": "https://localhost:8080/",
          "height": 352
        },
        "id": "7GsR27X6u_Rr",
        "outputId": "615034e0-4ba7-4d3b-dcfb-2b118c6b7424"
      },
      "execution_count": 55,
      "outputs": [
        {
          "output_type": "stream",
          "name": "stdout",
          "text": [
            "Check for null values in cooking session dataset:\n"
          ]
        },
        {
          "output_type": "execute_result",
          "data": {
            "text/plain": [
              "Session ID         0\n",
              "User ID            0\n",
              "Dish Name          0\n",
              "Meal Type          0\n",
              "Session Start      0\n",
              "Session End        0\n",
              "Duration (mins)    0\n",
              "Session Rating     0\n",
              "dtype: int64"
            ],
            "text/html": [
              "<div>\n",
              "<style scoped>\n",
              "    .dataframe tbody tr th:only-of-type {\n",
              "        vertical-align: middle;\n",
              "    }\n",
              "\n",
              "    .dataframe tbody tr th {\n",
              "        vertical-align: top;\n",
              "    }\n",
              "\n",
              "    .dataframe thead th {\n",
              "        text-align: right;\n",
              "    }\n",
              "</style>\n",
              "<table border=\"1\" class=\"dataframe\">\n",
              "  <thead>\n",
              "    <tr style=\"text-align: right;\">\n",
              "      <th></th>\n",
              "      <th>0</th>\n",
              "    </tr>\n",
              "  </thead>\n",
              "  <tbody>\n",
              "    <tr>\n",
              "      <th>Session ID</th>\n",
              "      <td>0</td>\n",
              "    </tr>\n",
              "    <tr>\n",
              "      <th>User ID</th>\n",
              "      <td>0</td>\n",
              "    </tr>\n",
              "    <tr>\n",
              "      <th>Dish Name</th>\n",
              "      <td>0</td>\n",
              "    </tr>\n",
              "    <tr>\n",
              "      <th>Meal Type</th>\n",
              "      <td>0</td>\n",
              "    </tr>\n",
              "    <tr>\n",
              "      <th>Session Start</th>\n",
              "      <td>0</td>\n",
              "    </tr>\n",
              "    <tr>\n",
              "      <th>Session End</th>\n",
              "      <td>0</td>\n",
              "    </tr>\n",
              "    <tr>\n",
              "      <th>Duration (mins)</th>\n",
              "      <td>0</td>\n",
              "    </tr>\n",
              "    <tr>\n",
              "      <th>Session Rating</th>\n",
              "      <td>0</td>\n",
              "    </tr>\n",
              "  </tbody>\n",
              "</table>\n",
              "</div><br><label><b>dtype:</b> int64</label>"
            ]
          },
          "metadata": {},
          "execution_count": 55
        }
      ]
    },
    {
      "cell_type": "code",
      "source": [
        "print(\"Check for duplicate:\")\n",
        "cooking_sessions.duplicated().sum()"
      ],
      "metadata": {
        "colab": {
          "base_uri": "https://localhost:8080/"
        },
        "id": "njI2Kf1KyzWO",
        "outputId": "1a175ae9-b40b-4812-d4e7-6970cddbdae5"
      },
      "execution_count": 56,
      "outputs": [
        {
          "output_type": "stream",
          "name": "stdout",
          "text": [
            "Check for duplicate:\n"
          ]
        },
        {
          "output_type": "execute_result",
          "data": {
            "text/plain": [
              "0"
            ]
          },
          "metadata": {},
          "execution_count": 56
        }
      ]
    },
    {
      "cell_type": "code",
      "source": [
        "order_details = pd.read_excel(file_path, sheet_name='OrderDetails.csv', engine='openpyxl')\n",
        "print(\"Order Details:\")\n",
        "order_details.head()"
      ],
      "metadata": {
        "colab": {
          "base_uri": "https://localhost:8080/",
          "height": 223
        },
        "id": "i8Eh8IOnrrty",
        "outputId": "5d431795-8de2-467d-9f8f-9d0b7fe0c9f4"
      },
      "execution_count": 57,
      "outputs": [
        {
          "output_type": "stream",
          "name": "stdout",
          "text": [
            "Order Details:\n"
          ]
        },
        {
          "output_type": "execute_result",
          "data": {
            "text/plain": [
              "   Order ID User ID Order Date  Meal Type        Dish Name Order Status  \\\n",
              "0      1001    U001 2024-12-01     Dinner        Spaghetti    Completed   \n",
              "1      1002    U002 2024-12-01      Lunch     Caesar Salad    Completed   \n",
              "2      1003    U003 2024-12-02     Dinner  Grilled Chicken     Canceled   \n",
              "3      1004    U001 2024-12-02  Breakfast         Pancakes    Completed   \n",
              "4      1005    U004 2024-12-03      Lunch     Caesar Salad    Completed   \n",
              "\n",
              "   Amount (USD) Time of Day  Rating Session ID  \n",
              "0          15.0       Night     5.0       S001  \n",
              "1          10.0         Day     4.0       S002  \n",
              "2          12.5       Night     NaN       S003  \n",
              "3           8.0     Morning     4.0       S004  \n",
              "4           9.0         Day     4.0       S005  "
            ],
            "text/html": [
              "\n",
              "  <div id=\"df-02f3ba1b-721f-465a-812d-e57d6afd472f\" class=\"colab-df-container\">\n",
              "    <div>\n",
              "<style scoped>\n",
              "    .dataframe tbody tr th:only-of-type {\n",
              "        vertical-align: middle;\n",
              "    }\n",
              "\n",
              "    .dataframe tbody tr th {\n",
              "        vertical-align: top;\n",
              "    }\n",
              "\n",
              "    .dataframe thead th {\n",
              "        text-align: right;\n",
              "    }\n",
              "</style>\n",
              "<table border=\"1\" class=\"dataframe\">\n",
              "  <thead>\n",
              "    <tr style=\"text-align: right;\">\n",
              "      <th></th>\n",
              "      <th>Order ID</th>\n",
              "      <th>User ID</th>\n",
              "      <th>Order Date</th>\n",
              "      <th>Meal Type</th>\n",
              "      <th>Dish Name</th>\n",
              "      <th>Order Status</th>\n",
              "      <th>Amount (USD)</th>\n",
              "      <th>Time of Day</th>\n",
              "      <th>Rating</th>\n",
              "      <th>Session ID</th>\n",
              "    </tr>\n",
              "  </thead>\n",
              "  <tbody>\n",
              "    <tr>\n",
              "      <th>0</th>\n",
              "      <td>1001</td>\n",
              "      <td>U001</td>\n",
              "      <td>2024-12-01</td>\n",
              "      <td>Dinner</td>\n",
              "      <td>Spaghetti</td>\n",
              "      <td>Completed</td>\n",
              "      <td>15.0</td>\n",
              "      <td>Night</td>\n",
              "      <td>5.0</td>\n",
              "      <td>S001</td>\n",
              "    </tr>\n",
              "    <tr>\n",
              "      <th>1</th>\n",
              "      <td>1002</td>\n",
              "      <td>U002</td>\n",
              "      <td>2024-12-01</td>\n",
              "      <td>Lunch</td>\n",
              "      <td>Caesar Salad</td>\n",
              "      <td>Completed</td>\n",
              "      <td>10.0</td>\n",
              "      <td>Day</td>\n",
              "      <td>4.0</td>\n",
              "      <td>S002</td>\n",
              "    </tr>\n",
              "    <tr>\n",
              "      <th>2</th>\n",
              "      <td>1003</td>\n",
              "      <td>U003</td>\n",
              "      <td>2024-12-02</td>\n",
              "      <td>Dinner</td>\n",
              "      <td>Grilled Chicken</td>\n",
              "      <td>Canceled</td>\n",
              "      <td>12.5</td>\n",
              "      <td>Night</td>\n",
              "      <td>NaN</td>\n",
              "      <td>S003</td>\n",
              "    </tr>\n",
              "    <tr>\n",
              "      <th>3</th>\n",
              "      <td>1004</td>\n",
              "      <td>U001</td>\n",
              "      <td>2024-12-02</td>\n",
              "      <td>Breakfast</td>\n",
              "      <td>Pancakes</td>\n",
              "      <td>Completed</td>\n",
              "      <td>8.0</td>\n",
              "      <td>Morning</td>\n",
              "      <td>4.0</td>\n",
              "      <td>S004</td>\n",
              "    </tr>\n",
              "    <tr>\n",
              "      <th>4</th>\n",
              "      <td>1005</td>\n",
              "      <td>U004</td>\n",
              "      <td>2024-12-03</td>\n",
              "      <td>Lunch</td>\n",
              "      <td>Caesar Salad</td>\n",
              "      <td>Completed</td>\n",
              "      <td>9.0</td>\n",
              "      <td>Day</td>\n",
              "      <td>4.0</td>\n",
              "      <td>S005</td>\n",
              "    </tr>\n",
              "  </tbody>\n",
              "</table>\n",
              "</div>\n",
              "    <div class=\"colab-df-buttons\">\n",
              "\n",
              "  <div class=\"colab-df-container\">\n",
              "    <button class=\"colab-df-convert\" onclick=\"convertToInteractive('df-02f3ba1b-721f-465a-812d-e57d6afd472f')\"\n",
              "            title=\"Convert this dataframe to an interactive table.\"\n",
              "            style=\"display:none;\">\n",
              "\n",
              "  <svg xmlns=\"http://www.w3.org/2000/svg\" height=\"24px\" viewBox=\"0 -960 960 960\">\n",
              "    <path d=\"M120-120v-720h720v720H120Zm60-500h600v-160H180v160Zm220 220h160v-160H400v160Zm0 220h160v-160H400v160ZM180-400h160v-160H180v160Zm440 0h160v-160H620v160ZM180-180h160v-160H180v160Zm440 0h160v-160H620v160Z\"/>\n",
              "  </svg>\n",
              "    </button>\n",
              "\n",
              "  <style>\n",
              "    .colab-df-container {\n",
              "      display:flex;\n",
              "      gap: 12px;\n",
              "    }\n",
              "\n",
              "    .colab-df-convert {\n",
              "      background-color: #E8F0FE;\n",
              "      border: none;\n",
              "      border-radius: 50%;\n",
              "      cursor: pointer;\n",
              "      display: none;\n",
              "      fill: #1967D2;\n",
              "      height: 32px;\n",
              "      padding: 0 0 0 0;\n",
              "      width: 32px;\n",
              "    }\n",
              "\n",
              "    .colab-df-convert:hover {\n",
              "      background-color: #E2EBFA;\n",
              "      box-shadow: 0px 1px 2px rgba(60, 64, 67, 0.3), 0px 1px 3px 1px rgba(60, 64, 67, 0.15);\n",
              "      fill: #174EA6;\n",
              "    }\n",
              "\n",
              "    .colab-df-buttons div {\n",
              "      margin-bottom: 4px;\n",
              "    }\n",
              "\n",
              "    [theme=dark] .colab-df-convert {\n",
              "      background-color: #3B4455;\n",
              "      fill: #D2E3FC;\n",
              "    }\n",
              "\n",
              "    [theme=dark] .colab-df-convert:hover {\n",
              "      background-color: #434B5C;\n",
              "      box-shadow: 0px 1px 3px 1px rgba(0, 0, 0, 0.15);\n",
              "      filter: drop-shadow(0px 1px 2px rgba(0, 0, 0, 0.3));\n",
              "      fill: #FFFFFF;\n",
              "    }\n",
              "  </style>\n",
              "\n",
              "    <script>\n",
              "      const buttonEl =\n",
              "        document.querySelector('#df-02f3ba1b-721f-465a-812d-e57d6afd472f button.colab-df-convert');\n",
              "      buttonEl.style.display =\n",
              "        google.colab.kernel.accessAllowed ? 'block' : 'none';\n",
              "\n",
              "      async function convertToInteractive(key) {\n",
              "        const element = document.querySelector('#df-02f3ba1b-721f-465a-812d-e57d6afd472f');\n",
              "        const dataTable =\n",
              "          await google.colab.kernel.invokeFunction('convertToInteractive',\n",
              "                                                    [key], {});\n",
              "        if (!dataTable) return;\n",
              "\n",
              "        const docLinkHtml = 'Like what you see? Visit the ' +\n",
              "          '<a target=\"_blank\" href=https://colab.research.google.com/notebooks/data_table.ipynb>data table notebook</a>'\n",
              "          + ' to learn more about interactive tables.';\n",
              "        element.innerHTML = '';\n",
              "        dataTable['output_type'] = 'display_data';\n",
              "        await google.colab.output.renderOutput(dataTable, element);\n",
              "        const docLink = document.createElement('div');\n",
              "        docLink.innerHTML = docLinkHtml;\n",
              "        element.appendChild(docLink);\n",
              "      }\n",
              "    </script>\n",
              "  </div>\n",
              "\n",
              "\n",
              "<div id=\"df-66798fb9-70ca-4e14-8e30-2a2f702bce2c\">\n",
              "  <button class=\"colab-df-quickchart\" onclick=\"quickchart('df-66798fb9-70ca-4e14-8e30-2a2f702bce2c')\"\n",
              "            title=\"Suggest charts\"\n",
              "            style=\"display:none;\">\n",
              "\n",
              "<svg xmlns=\"http://www.w3.org/2000/svg\" height=\"24px\"viewBox=\"0 0 24 24\"\n",
              "     width=\"24px\">\n",
              "    <g>\n",
              "        <path d=\"M19 3H5c-1.1 0-2 .9-2 2v14c0 1.1.9 2 2 2h14c1.1 0 2-.9 2-2V5c0-1.1-.9-2-2-2zM9 17H7v-7h2v7zm4 0h-2V7h2v10zm4 0h-2v-4h2v4z\"/>\n",
              "    </g>\n",
              "</svg>\n",
              "  </button>\n",
              "\n",
              "<style>\n",
              "  .colab-df-quickchart {\n",
              "      --bg-color: #E8F0FE;\n",
              "      --fill-color: #1967D2;\n",
              "      --hover-bg-color: #E2EBFA;\n",
              "      --hover-fill-color: #174EA6;\n",
              "      --disabled-fill-color: #AAA;\n",
              "      --disabled-bg-color: #DDD;\n",
              "  }\n",
              "\n",
              "  [theme=dark] .colab-df-quickchart {\n",
              "      --bg-color: #3B4455;\n",
              "      --fill-color: #D2E3FC;\n",
              "      --hover-bg-color: #434B5C;\n",
              "      --hover-fill-color: #FFFFFF;\n",
              "      --disabled-bg-color: #3B4455;\n",
              "      --disabled-fill-color: #666;\n",
              "  }\n",
              "\n",
              "  .colab-df-quickchart {\n",
              "    background-color: var(--bg-color);\n",
              "    border: none;\n",
              "    border-radius: 50%;\n",
              "    cursor: pointer;\n",
              "    display: none;\n",
              "    fill: var(--fill-color);\n",
              "    height: 32px;\n",
              "    padding: 0;\n",
              "    width: 32px;\n",
              "  }\n",
              "\n",
              "  .colab-df-quickchart:hover {\n",
              "    background-color: var(--hover-bg-color);\n",
              "    box-shadow: 0 1px 2px rgba(60, 64, 67, 0.3), 0 1px 3px 1px rgba(60, 64, 67, 0.15);\n",
              "    fill: var(--button-hover-fill-color);\n",
              "  }\n",
              "\n",
              "  .colab-df-quickchart-complete:disabled,\n",
              "  .colab-df-quickchart-complete:disabled:hover {\n",
              "    background-color: var(--disabled-bg-color);\n",
              "    fill: var(--disabled-fill-color);\n",
              "    box-shadow: none;\n",
              "  }\n",
              "\n",
              "  .colab-df-spinner {\n",
              "    border: 2px solid var(--fill-color);\n",
              "    border-color: transparent;\n",
              "    border-bottom-color: var(--fill-color);\n",
              "    animation:\n",
              "      spin 1s steps(1) infinite;\n",
              "  }\n",
              "\n",
              "  @keyframes spin {\n",
              "    0% {\n",
              "      border-color: transparent;\n",
              "      border-bottom-color: var(--fill-color);\n",
              "      border-left-color: var(--fill-color);\n",
              "    }\n",
              "    20% {\n",
              "      border-color: transparent;\n",
              "      border-left-color: var(--fill-color);\n",
              "      border-top-color: var(--fill-color);\n",
              "    }\n",
              "    30% {\n",
              "      border-color: transparent;\n",
              "      border-left-color: var(--fill-color);\n",
              "      border-top-color: var(--fill-color);\n",
              "      border-right-color: var(--fill-color);\n",
              "    }\n",
              "    40% {\n",
              "      border-color: transparent;\n",
              "      border-right-color: var(--fill-color);\n",
              "      border-top-color: var(--fill-color);\n",
              "    }\n",
              "    60% {\n",
              "      border-color: transparent;\n",
              "      border-right-color: var(--fill-color);\n",
              "    }\n",
              "    80% {\n",
              "      border-color: transparent;\n",
              "      border-right-color: var(--fill-color);\n",
              "      border-bottom-color: var(--fill-color);\n",
              "    }\n",
              "    90% {\n",
              "      border-color: transparent;\n",
              "      border-bottom-color: var(--fill-color);\n",
              "    }\n",
              "  }\n",
              "</style>\n",
              "\n",
              "  <script>\n",
              "    async function quickchart(key) {\n",
              "      const quickchartButtonEl =\n",
              "        document.querySelector('#' + key + ' button');\n",
              "      quickchartButtonEl.disabled = true;  // To prevent multiple clicks.\n",
              "      quickchartButtonEl.classList.add('colab-df-spinner');\n",
              "      try {\n",
              "        const charts = await google.colab.kernel.invokeFunction(\n",
              "            'suggestCharts', [key], {});\n",
              "      } catch (error) {\n",
              "        console.error('Error during call to suggestCharts:', error);\n",
              "      }\n",
              "      quickchartButtonEl.classList.remove('colab-df-spinner');\n",
              "      quickchartButtonEl.classList.add('colab-df-quickchart-complete');\n",
              "    }\n",
              "    (() => {\n",
              "      let quickchartButtonEl =\n",
              "        document.querySelector('#df-66798fb9-70ca-4e14-8e30-2a2f702bce2c button');\n",
              "      quickchartButtonEl.style.display =\n",
              "        google.colab.kernel.accessAllowed ? 'block' : 'none';\n",
              "    })();\n",
              "  </script>\n",
              "</div>\n",
              "\n",
              "    </div>\n",
              "  </div>\n"
            ],
            "application/vnd.google.colaboratory.intrinsic+json": {
              "type": "dataframe",
              "variable_name": "order_details",
              "summary": "{\n  \"name\": \"order_details\",\n  \"rows\": 16,\n  \"fields\": [\n    {\n      \"column\": \"Order ID\",\n      \"properties\": {\n        \"dtype\": \"number\",\n        \"std\": 4,\n        \"min\": 1001,\n        \"max\": 1016,\n        \"num_unique_values\": 16,\n        \"samples\": [\n          1001,\n          1002,\n          1006\n        ],\n        \"semantic_type\": \"\",\n        \"description\": \"\"\n      }\n    },\n    {\n      \"column\": \"User ID\",\n      \"properties\": {\n        \"dtype\": \"string\",\n        \"num_unique_values\": 8,\n        \"samples\": [\n          \"U002\",\n          \"U006\",\n          \"U001\"\n        ],\n        \"semantic_type\": \"\",\n        \"description\": \"\"\n      }\n    },\n    {\n      \"column\": \"Order Date\",\n      \"properties\": {\n        \"dtype\": \"date\",\n        \"min\": \"2024-12-01 00:00:00\",\n        \"max\": \"2024-12-08 00:00:00\",\n        \"num_unique_values\": 8,\n        \"samples\": [\n          \"2024-12-02 00:00:00\",\n          \"2024-12-06 00:00:00\",\n          \"2024-12-01 00:00:00\"\n        ],\n        \"semantic_type\": \"\",\n        \"description\": \"\"\n      }\n    },\n    {\n      \"column\": \"Meal Type\",\n      \"properties\": {\n        \"dtype\": \"category\",\n        \"num_unique_values\": 3,\n        \"samples\": [\n          \"Dinner\",\n          \"Lunch\",\n          \"Breakfast\"\n        ],\n        \"semantic_type\": \"\",\n        \"description\": \"\"\n      }\n    },\n    {\n      \"column\": \"Dish Name\",\n      \"properties\": {\n        \"dtype\": \"category\",\n        \"num_unique_values\": 6,\n        \"samples\": [\n          \"Spaghetti\",\n          \"Caesar Salad\",\n          \"Oatmeal\"\n        ],\n        \"semantic_type\": \"\",\n        \"description\": \"\"\n      }\n    },\n    {\n      \"column\": \"Order Status\",\n      \"properties\": {\n        \"dtype\": \"category\",\n        \"num_unique_values\": 2,\n        \"samples\": [\n          \"Canceled\",\n          \"Completed\"\n        ],\n        \"semantic_type\": \"\",\n        \"description\": \"\"\n      }\n    },\n    {\n      \"column\": \"Amount (USD)\",\n      \"properties\": {\n        \"dtype\": \"number\",\n        \"std\": 2.4358434541926814,\n        \"min\": 7.0,\n        \"max\": 15.0,\n        \"num_unique_values\": 12,\n        \"samples\": [\n          8.5,\n          7.0\n        ],\n        \"semantic_type\": \"\",\n        \"description\": \"\"\n      }\n    },\n    {\n      \"column\": \"Time of Day\",\n      \"properties\": {\n        \"dtype\": \"category\",\n        \"num_unique_values\": 3,\n        \"samples\": [\n          \"Night\",\n          \"Day\"\n        ],\n        \"semantic_type\": \"\",\n        \"description\": \"\"\n      }\n    },\n    {\n      \"column\": \"Rating\",\n      \"properties\": {\n        \"dtype\": \"number\",\n        \"std\": 0.4688072309384954,\n        \"min\": 4.0,\n        \"max\": 5.0,\n        \"num_unique_values\": 2,\n        \"samples\": [\n          4.0,\n          5.0\n        ],\n        \"semantic_type\": \"\",\n        \"description\": \"\"\n      }\n    },\n    {\n      \"column\": \"Session ID\",\n      \"properties\": {\n        \"dtype\": \"string\",\n        \"num_unique_values\": 16,\n        \"samples\": [\n          \"S001\",\n          \"S002\"\n        ],\n        \"semantic_type\": \"\",\n        \"description\": \"\"\n      }\n    }\n  ]\n}"
            }
          },
          "metadata": {},
          "execution_count": 57
        }
      ]
    },
    {
      "cell_type": "code",
      "source": [
        "print(\"Order Details Information:\\n\")\n",
        "order_details.info()"
      ],
      "metadata": {
        "colab": {
          "base_uri": "https://localhost:8080/"
        },
        "id": "s0Gh4UgjsE_G",
        "outputId": "91aeaa93-3568-4107-cfa2-eba7c158c093"
      },
      "execution_count": 58,
      "outputs": [
        {
          "output_type": "stream",
          "name": "stdout",
          "text": [
            "Order Details Information:\n",
            "\n",
            "<class 'pandas.core.frame.DataFrame'>\n",
            "RangeIndex: 16 entries, 0 to 15\n",
            "Data columns (total 10 columns):\n",
            " #   Column        Non-Null Count  Dtype         \n",
            "---  ------        --------------  -----         \n",
            " 0   Order ID      16 non-null     int64         \n",
            " 1   User ID       16 non-null     object        \n",
            " 2   Order Date    16 non-null     datetime64[ns]\n",
            " 3   Meal Type     16 non-null     object        \n",
            " 4   Dish Name     16 non-null     object        \n",
            " 5   Order Status  16 non-null     object        \n",
            " 6   Amount (USD)  16 non-null     float64       \n",
            " 7   Time of Day   16 non-null     object        \n",
            " 8   Rating        14 non-null     float64       \n",
            " 9   Session ID    16 non-null     object        \n",
            "dtypes: datetime64[ns](1), float64(2), int64(1), object(6)\n",
            "memory usage: 1.4+ KB\n"
          ]
        }
      ]
    },
    {
      "cell_type": "code",
      "source": [
        "print(\"Check for null values:\\n\")\n",
        "order_details.isnull().sum()"
      ],
      "metadata": {
        "colab": {
          "base_uri": "https://localhost:8080/",
          "height": 432
        },
        "id": "5heSEgeCsFAe",
        "outputId": "0c34962d-0317-4c21-b061-5c866c2ba757"
      },
      "execution_count": 59,
      "outputs": [
        {
          "output_type": "stream",
          "name": "stdout",
          "text": [
            "Check for null values:\n",
            "\n"
          ]
        },
        {
          "output_type": "execute_result",
          "data": {
            "text/plain": [
              "Order ID        0\n",
              "User ID         0\n",
              "Order Date      0\n",
              "Meal Type       0\n",
              "Dish Name       0\n",
              "Order Status    0\n",
              "Amount (USD)    0\n",
              "Time of Day     0\n",
              "Rating          2\n",
              "Session ID      0\n",
              "dtype: int64"
            ],
            "text/html": [
              "<div>\n",
              "<style scoped>\n",
              "    .dataframe tbody tr th:only-of-type {\n",
              "        vertical-align: middle;\n",
              "    }\n",
              "\n",
              "    .dataframe tbody tr th {\n",
              "        vertical-align: top;\n",
              "    }\n",
              "\n",
              "    .dataframe thead th {\n",
              "        text-align: right;\n",
              "    }\n",
              "</style>\n",
              "<table border=\"1\" class=\"dataframe\">\n",
              "  <thead>\n",
              "    <tr style=\"text-align: right;\">\n",
              "      <th></th>\n",
              "      <th>0</th>\n",
              "    </tr>\n",
              "  </thead>\n",
              "  <tbody>\n",
              "    <tr>\n",
              "      <th>Order ID</th>\n",
              "      <td>0</td>\n",
              "    </tr>\n",
              "    <tr>\n",
              "      <th>User ID</th>\n",
              "      <td>0</td>\n",
              "    </tr>\n",
              "    <tr>\n",
              "      <th>Order Date</th>\n",
              "      <td>0</td>\n",
              "    </tr>\n",
              "    <tr>\n",
              "      <th>Meal Type</th>\n",
              "      <td>0</td>\n",
              "    </tr>\n",
              "    <tr>\n",
              "      <th>Dish Name</th>\n",
              "      <td>0</td>\n",
              "    </tr>\n",
              "    <tr>\n",
              "      <th>Order Status</th>\n",
              "      <td>0</td>\n",
              "    </tr>\n",
              "    <tr>\n",
              "      <th>Amount (USD)</th>\n",
              "      <td>0</td>\n",
              "    </tr>\n",
              "    <tr>\n",
              "      <th>Time of Day</th>\n",
              "      <td>0</td>\n",
              "    </tr>\n",
              "    <tr>\n",
              "      <th>Rating</th>\n",
              "      <td>2</td>\n",
              "    </tr>\n",
              "    <tr>\n",
              "      <th>Session ID</th>\n",
              "      <td>0</td>\n",
              "    </tr>\n",
              "  </tbody>\n",
              "</table>\n",
              "</div><br><label><b>dtype:</b> int64</label>"
            ]
          },
          "metadata": {},
          "execution_count": 59
        }
      ]
    },
    {
      "cell_type": "code",
      "source": [
        "order_details.duplicated().sum()"
      ],
      "metadata": {
        "colab": {
          "base_uri": "https://localhost:8080/"
        },
        "id": "VopQCKyKy4Yv",
        "outputId": "e9093c65-b4c9-4fe9-999c-4c8817e06452"
      },
      "execution_count": 60,
      "outputs": [
        {
          "output_type": "execute_result",
          "data": {
            "text/plain": [
              "0"
            ]
          },
          "metadata": {},
          "execution_count": 60
        }
      ]
    },
    {
      "cell_type": "markdown",
      "source": [
        "After checking null values , the \"**rating**\" column has 2 null values. So, I have fill with the mean of that column."
      ],
      "metadata": {
        "id": "NfaqYi8IDTPH"
      }
    },
    {
      "cell_type": "code",
      "source": [
        "order_details['Rating'].fillna(order_details['Rating'].mean(), inplace=True)"
      ],
      "metadata": {
        "colab": {
          "base_uri": "https://localhost:8080/"
        },
        "id": "wMJGgoKQvVrO",
        "outputId": "89b3afd8-8882-431b-ec7d-2ec7b5aad130"
      },
      "execution_count": 61,
      "outputs": [
        {
          "output_type": "stream",
          "name": "stderr",
          "text": [
            "<ipython-input-61-1bd53fa3365b>:1: FutureWarning: A value is trying to be set on a copy of a DataFrame or Series through chained assignment using an inplace method.\n",
            "The behavior will change in pandas 3.0. This inplace method will never work because the intermediate object on which we are setting values always behaves as a copy.\n",
            "\n",
            "For example, when doing 'df[col].method(value, inplace=True)', try using 'df.method({col: value}, inplace=True)' or df[col] = df[col].method(value) instead, to perform the operation inplace on the original object.\n",
            "\n",
            "\n",
            "  order_details['Rating'].fillna(order_details['Rating'].mean(), inplace=True)\n"
          ]
        }
      ]
    },
    {
      "cell_type": "code",
      "source": [
        "order_details.isnull().sum()"
      ],
      "metadata": {
        "colab": {
          "base_uri": "https://localhost:8080/",
          "height": 397
        },
        "id": "bEoJMm4KwIx6",
        "outputId": "a476b939-2a6c-4d6d-f1db-7aeda3eb505f"
      },
      "execution_count": 62,
      "outputs": [
        {
          "output_type": "execute_result",
          "data": {
            "text/plain": [
              "Order ID        0\n",
              "User ID         0\n",
              "Order Date      0\n",
              "Meal Type       0\n",
              "Dish Name       0\n",
              "Order Status    0\n",
              "Amount (USD)    0\n",
              "Time of Day     0\n",
              "Rating          0\n",
              "Session ID      0\n",
              "dtype: int64"
            ],
            "text/html": [
              "<div>\n",
              "<style scoped>\n",
              "    .dataframe tbody tr th:only-of-type {\n",
              "        vertical-align: middle;\n",
              "    }\n",
              "\n",
              "    .dataframe tbody tr th {\n",
              "        vertical-align: top;\n",
              "    }\n",
              "\n",
              "    .dataframe thead th {\n",
              "        text-align: right;\n",
              "    }\n",
              "</style>\n",
              "<table border=\"1\" class=\"dataframe\">\n",
              "  <thead>\n",
              "    <tr style=\"text-align: right;\">\n",
              "      <th></th>\n",
              "      <th>0</th>\n",
              "    </tr>\n",
              "  </thead>\n",
              "  <tbody>\n",
              "    <tr>\n",
              "      <th>Order ID</th>\n",
              "      <td>0</td>\n",
              "    </tr>\n",
              "    <tr>\n",
              "      <th>User ID</th>\n",
              "      <td>0</td>\n",
              "    </tr>\n",
              "    <tr>\n",
              "      <th>Order Date</th>\n",
              "      <td>0</td>\n",
              "    </tr>\n",
              "    <tr>\n",
              "      <th>Meal Type</th>\n",
              "      <td>0</td>\n",
              "    </tr>\n",
              "    <tr>\n",
              "      <th>Dish Name</th>\n",
              "      <td>0</td>\n",
              "    </tr>\n",
              "    <tr>\n",
              "      <th>Order Status</th>\n",
              "      <td>0</td>\n",
              "    </tr>\n",
              "    <tr>\n",
              "      <th>Amount (USD)</th>\n",
              "      <td>0</td>\n",
              "    </tr>\n",
              "    <tr>\n",
              "      <th>Time of Day</th>\n",
              "      <td>0</td>\n",
              "    </tr>\n",
              "    <tr>\n",
              "      <th>Rating</th>\n",
              "      <td>0</td>\n",
              "    </tr>\n",
              "    <tr>\n",
              "      <th>Session ID</th>\n",
              "      <td>0</td>\n",
              "    </tr>\n",
              "  </tbody>\n",
              "</table>\n",
              "</div><br><label><b>dtype:</b> int64</label>"
            ]
          },
          "metadata": {},
          "execution_count": 62
        }
      ]
    },
    {
      "cell_type": "markdown",
      "source": [
        "*Merge the datasets on common keys to create a consolidated dataset.*\n",
        "*Merge the datasets based on user IDs or session IDs to create a comprehensive dataset for analysis.*"
      ],
      "metadata": {
        "id": "bSqoWILYDu4J"
      }
    },
    {
      "cell_type": "code",
      "source": [
        "mergedata = pd.merge(cooking_sessions, user_details, on='User ID', how='inner')\n",
        "mergedata = pd.merge(mergedata, order_details, on='Session ID', how='inner')\n",
        "\n",
        "print(\"Merged Dataset:\\n\")\n",
        "mergedata.head()"
      ],
      "metadata": {
        "colab": {
          "base_uri": "https://localhost:8080/",
          "height": 481
        },
        "id": "fEJPbPvHwVEx",
        "outputId": "3f2adf32-1fee-4cf1-dced-d31a4825862e"
      },
      "execution_count": 63,
      "outputs": [
        {
          "output_type": "stream",
          "name": "stdout",
          "text": [
            "Merged Dataset:\n",
            "\n"
          ]
        },
        {
          "output_type": "execute_result",
          "data": {
            "text/plain": [
              "  Session ID User ID_x      Dish Name_x Meal Type_x       Session Start  \\\n",
              "0       S001      U001        Spaghetti      Dinner 2024-12-01 19:00:00   \n",
              "1       S002      U002     Caesar Salad       Lunch 2024-12-01 12:00:00   \n",
              "2       S003      U003  Grilled Chicken      Dinner 2024-12-02 19:30:00   \n",
              "3       S004      U001         Pancakes   Breakfast 2024-12-02 07:30:00   \n",
              "4       S005      U004     Caesar Salad       Lunch 2024-12-03 13:00:00   \n",
              "\n",
              "          Session End  Duration (mins)  Session Rating      User Name  Age  \\\n",
              "0 2024-12-01 19:30:00               30             4.5  Alice Johnson   28   \n",
              "1 2024-12-01 12:20:00               20             4.0      Bob Smith   35   \n",
              "2 2024-12-02 20:10:00               40             4.8    Charlie Lee   42   \n",
              "3 2024-12-02 08:00:00               30             4.2  Alice Johnson   28   \n",
              "4 2024-12-03 13:15:00               15             4.7    David Brown   27   \n",
              "\n",
              "   ... Total Orders Order ID User ID_y Order Date Meal Type_y  \\\n",
              "0  ...           12     1001      U001 2024-12-01      Dinner   \n",
              "1  ...            8     1002      U002 2024-12-01       Lunch   \n",
              "2  ...           15     1003      U003 2024-12-02      Dinner   \n",
              "3  ...           12     1004      U001 2024-12-02   Breakfast   \n",
              "4  ...           10     1005      U004 2024-12-03       Lunch   \n",
              "\n",
              "       Dish Name_y  Order Status Amount (USD) Time of Day    Rating  \n",
              "0        Spaghetti     Completed         15.0       Night  5.000000  \n",
              "1     Caesar Salad     Completed         10.0         Day  4.000000  \n",
              "2  Grilled Chicken      Canceled         12.5       Night  4.285714  \n",
              "3         Pancakes     Completed          8.0     Morning  4.000000  \n",
              "4     Caesar Salad     Completed          9.0         Day  4.000000  \n",
              "\n",
              "[5 rows x 25 columns]"
            ],
            "text/html": [
              "\n",
              "  <div id=\"df-23332cc3-2021-4beb-b59b-6e87ecd6ecb9\" class=\"colab-df-container\">\n",
              "    <div>\n",
              "<style scoped>\n",
              "    .dataframe tbody tr th:only-of-type {\n",
              "        vertical-align: middle;\n",
              "    }\n",
              "\n",
              "    .dataframe tbody tr th {\n",
              "        vertical-align: top;\n",
              "    }\n",
              "\n",
              "    .dataframe thead th {\n",
              "        text-align: right;\n",
              "    }\n",
              "</style>\n",
              "<table border=\"1\" class=\"dataframe\">\n",
              "  <thead>\n",
              "    <tr style=\"text-align: right;\">\n",
              "      <th></th>\n",
              "      <th>Session ID</th>\n",
              "      <th>User ID_x</th>\n",
              "      <th>Dish Name_x</th>\n",
              "      <th>Meal Type_x</th>\n",
              "      <th>Session Start</th>\n",
              "      <th>Session End</th>\n",
              "      <th>Duration (mins)</th>\n",
              "      <th>Session Rating</th>\n",
              "      <th>User Name</th>\n",
              "      <th>Age</th>\n",
              "      <th>...</th>\n",
              "      <th>Total Orders</th>\n",
              "      <th>Order ID</th>\n",
              "      <th>User ID_y</th>\n",
              "      <th>Order Date</th>\n",
              "      <th>Meal Type_y</th>\n",
              "      <th>Dish Name_y</th>\n",
              "      <th>Order Status</th>\n",
              "      <th>Amount (USD)</th>\n",
              "      <th>Time of Day</th>\n",
              "      <th>Rating</th>\n",
              "    </tr>\n",
              "  </thead>\n",
              "  <tbody>\n",
              "    <tr>\n",
              "      <th>0</th>\n",
              "      <td>S001</td>\n",
              "      <td>U001</td>\n",
              "      <td>Spaghetti</td>\n",
              "      <td>Dinner</td>\n",
              "      <td>2024-12-01 19:00:00</td>\n",
              "      <td>2024-12-01 19:30:00</td>\n",
              "      <td>30</td>\n",
              "      <td>4.5</td>\n",
              "      <td>Alice Johnson</td>\n",
              "      <td>28</td>\n",
              "      <td>...</td>\n",
              "      <td>12</td>\n",
              "      <td>1001</td>\n",
              "      <td>U001</td>\n",
              "      <td>2024-12-01</td>\n",
              "      <td>Dinner</td>\n",
              "      <td>Spaghetti</td>\n",
              "      <td>Completed</td>\n",
              "      <td>15.0</td>\n",
              "      <td>Night</td>\n",
              "      <td>5.000000</td>\n",
              "    </tr>\n",
              "    <tr>\n",
              "      <th>1</th>\n",
              "      <td>S002</td>\n",
              "      <td>U002</td>\n",
              "      <td>Caesar Salad</td>\n",
              "      <td>Lunch</td>\n",
              "      <td>2024-12-01 12:00:00</td>\n",
              "      <td>2024-12-01 12:20:00</td>\n",
              "      <td>20</td>\n",
              "      <td>4.0</td>\n",
              "      <td>Bob Smith</td>\n",
              "      <td>35</td>\n",
              "      <td>...</td>\n",
              "      <td>8</td>\n",
              "      <td>1002</td>\n",
              "      <td>U002</td>\n",
              "      <td>2024-12-01</td>\n",
              "      <td>Lunch</td>\n",
              "      <td>Caesar Salad</td>\n",
              "      <td>Completed</td>\n",
              "      <td>10.0</td>\n",
              "      <td>Day</td>\n",
              "      <td>4.000000</td>\n",
              "    </tr>\n",
              "    <tr>\n",
              "      <th>2</th>\n",
              "      <td>S003</td>\n",
              "      <td>U003</td>\n",
              "      <td>Grilled Chicken</td>\n",
              "      <td>Dinner</td>\n",
              "      <td>2024-12-02 19:30:00</td>\n",
              "      <td>2024-12-02 20:10:00</td>\n",
              "      <td>40</td>\n",
              "      <td>4.8</td>\n",
              "      <td>Charlie Lee</td>\n",
              "      <td>42</td>\n",
              "      <td>...</td>\n",
              "      <td>15</td>\n",
              "      <td>1003</td>\n",
              "      <td>U003</td>\n",
              "      <td>2024-12-02</td>\n",
              "      <td>Dinner</td>\n",
              "      <td>Grilled Chicken</td>\n",
              "      <td>Canceled</td>\n",
              "      <td>12.5</td>\n",
              "      <td>Night</td>\n",
              "      <td>4.285714</td>\n",
              "    </tr>\n",
              "    <tr>\n",
              "      <th>3</th>\n",
              "      <td>S004</td>\n",
              "      <td>U001</td>\n",
              "      <td>Pancakes</td>\n",
              "      <td>Breakfast</td>\n",
              "      <td>2024-12-02 07:30:00</td>\n",
              "      <td>2024-12-02 08:00:00</td>\n",
              "      <td>30</td>\n",
              "      <td>4.2</td>\n",
              "      <td>Alice Johnson</td>\n",
              "      <td>28</td>\n",
              "      <td>...</td>\n",
              "      <td>12</td>\n",
              "      <td>1004</td>\n",
              "      <td>U001</td>\n",
              "      <td>2024-12-02</td>\n",
              "      <td>Breakfast</td>\n",
              "      <td>Pancakes</td>\n",
              "      <td>Completed</td>\n",
              "      <td>8.0</td>\n",
              "      <td>Morning</td>\n",
              "      <td>4.000000</td>\n",
              "    </tr>\n",
              "    <tr>\n",
              "      <th>4</th>\n",
              "      <td>S005</td>\n",
              "      <td>U004</td>\n",
              "      <td>Caesar Salad</td>\n",
              "      <td>Lunch</td>\n",
              "      <td>2024-12-03 13:00:00</td>\n",
              "      <td>2024-12-03 13:15:00</td>\n",
              "      <td>15</td>\n",
              "      <td>4.7</td>\n",
              "      <td>David Brown</td>\n",
              "      <td>27</td>\n",
              "      <td>...</td>\n",
              "      <td>10</td>\n",
              "      <td>1005</td>\n",
              "      <td>U004</td>\n",
              "      <td>2024-12-03</td>\n",
              "      <td>Lunch</td>\n",
              "      <td>Caesar Salad</td>\n",
              "      <td>Completed</td>\n",
              "      <td>9.0</td>\n",
              "      <td>Day</td>\n",
              "      <td>4.000000</td>\n",
              "    </tr>\n",
              "  </tbody>\n",
              "</table>\n",
              "<p>5 rows × 25 columns</p>\n",
              "</div>\n",
              "    <div class=\"colab-df-buttons\">\n",
              "\n",
              "  <div class=\"colab-df-container\">\n",
              "    <button class=\"colab-df-convert\" onclick=\"convertToInteractive('df-23332cc3-2021-4beb-b59b-6e87ecd6ecb9')\"\n",
              "            title=\"Convert this dataframe to an interactive table.\"\n",
              "            style=\"display:none;\">\n",
              "\n",
              "  <svg xmlns=\"http://www.w3.org/2000/svg\" height=\"24px\" viewBox=\"0 -960 960 960\">\n",
              "    <path d=\"M120-120v-720h720v720H120Zm60-500h600v-160H180v160Zm220 220h160v-160H400v160Zm0 220h160v-160H400v160ZM180-400h160v-160H180v160Zm440 0h160v-160H620v160ZM180-180h160v-160H180v160Zm440 0h160v-160H620v160Z\"/>\n",
              "  </svg>\n",
              "    </button>\n",
              "\n",
              "  <style>\n",
              "    .colab-df-container {\n",
              "      display:flex;\n",
              "      gap: 12px;\n",
              "    }\n",
              "\n",
              "    .colab-df-convert {\n",
              "      background-color: #E8F0FE;\n",
              "      border: none;\n",
              "      border-radius: 50%;\n",
              "      cursor: pointer;\n",
              "      display: none;\n",
              "      fill: #1967D2;\n",
              "      height: 32px;\n",
              "      padding: 0 0 0 0;\n",
              "      width: 32px;\n",
              "    }\n",
              "\n",
              "    .colab-df-convert:hover {\n",
              "      background-color: #E2EBFA;\n",
              "      box-shadow: 0px 1px 2px rgba(60, 64, 67, 0.3), 0px 1px 3px 1px rgba(60, 64, 67, 0.15);\n",
              "      fill: #174EA6;\n",
              "    }\n",
              "\n",
              "    .colab-df-buttons div {\n",
              "      margin-bottom: 4px;\n",
              "    }\n",
              "\n",
              "    [theme=dark] .colab-df-convert {\n",
              "      background-color: #3B4455;\n",
              "      fill: #D2E3FC;\n",
              "    }\n",
              "\n",
              "    [theme=dark] .colab-df-convert:hover {\n",
              "      background-color: #434B5C;\n",
              "      box-shadow: 0px 1px 3px 1px rgba(0, 0, 0, 0.15);\n",
              "      filter: drop-shadow(0px 1px 2px rgba(0, 0, 0, 0.3));\n",
              "      fill: #FFFFFF;\n",
              "    }\n",
              "  </style>\n",
              "\n",
              "    <script>\n",
              "      const buttonEl =\n",
              "        document.querySelector('#df-23332cc3-2021-4beb-b59b-6e87ecd6ecb9 button.colab-df-convert');\n",
              "      buttonEl.style.display =\n",
              "        google.colab.kernel.accessAllowed ? 'block' : 'none';\n",
              "\n",
              "      async function convertToInteractive(key) {\n",
              "        const element = document.querySelector('#df-23332cc3-2021-4beb-b59b-6e87ecd6ecb9');\n",
              "        const dataTable =\n",
              "          await google.colab.kernel.invokeFunction('convertToInteractive',\n",
              "                                                    [key], {});\n",
              "        if (!dataTable) return;\n",
              "\n",
              "        const docLinkHtml = 'Like what you see? Visit the ' +\n",
              "          '<a target=\"_blank\" href=https://colab.research.google.com/notebooks/data_table.ipynb>data table notebook</a>'\n",
              "          + ' to learn more about interactive tables.';\n",
              "        element.innerHTML = '';\n",
              "        dataTable['output_type'] = 'display_data';\n",
              "        await google.colab.output.renderOutput(dataTable, element);\n",
              "        const docLink = document.createElement('div');\n",
              "        docLink.innerHTML = docLinkHtml;\n",
              "        element.appendChild(docLink);\n",
              "      }\n",
              "    </script>\n",
              "  </div>\n",
              "\n",
              "\n",
              "<div id=\"df-492b1bfa-48ec-44f6-b62d-9694a98edffa\">\n",
              "  <button class=\"colab-df-quickchart\" onclick=\"quickchart('df-492b1bfa-48ec-44f6-b62d-9694a98edffa')\"\n",
              "            title=\"Suggest charts\"\n",
              "            style=\"display:none;\">\n",
              "\n",
              "<svg xmlns=\"http://www.w3.org/2000/svg\" height=\"24px\"viewBox=\"0 0 24 24\"\n",
              "     width=\"24px\">\n",
              "    <g>\n",
              "        <path d=\"M19 3H5c-1.1 0-2 .9-2 2v14c0 1.1.9 2 2 2h14c1.1 0 2-.9 2-2V5c0-1.1-.9-2-2-2zM9 17H7v-7h2v7zm4 0h-2V7h2v10zm4 0h-2v-4h2v4z\"/>\n",
              "    </g>\n",
              "</svg>\n",
              "  </button>\n",
              "\n",
              "<style>\n",
              "  .colab-df-quickchart {\n",
              "      --bg-color: #E8F0FE;\n",
              "      --fill-color: #1967D2;\n",
              "      --hover-bg-color: #E2EBFA;\n",
              "      --hover-fill-color: #174EA6;\n",
              "      --disabled-fill-color: #AAA;\n",
              "      --disabled-bg-color: #DDD;\n",
              "  }\n",
              "\n",
              "  [theme=dark] .colab-df-quickchart {\n",
              "      --bg-color: #3B4455;\n",
              "      --fill-color: #D2E3FC;\n",
              "      --hover-bg-color: #434B5C;\n",
              "      --hover-fill-color: #FFFFFF;\n",
              "      --disabled-bg-color: #3B4455;\n",
              "      --disabled-fill-color: #666;\n",
              "  }\n",
              "\n",
              "  .colab-df-quickchart {\n",
              "    background-color: var(--bg-color);\n",
              "    border: none;\n",
              "    border-radius: 50%;\n",
              "    cursor: pointer;\n",
              "    display: none;\n",
              "    fill: var(--fill-color);\n",
              "    height: 32px;\n",
              "    padding: 0;\n",
              "    width: 32px;\n",
              "  }\n",
              "\n",
              "  .colab-df-quickchart:hover {\n",
              "    background-color: var(--hover-bg-color);\n",
              "    box-shadow: 0 1px 2px rgba(60, 64, 67, 0.3), 0 1px 3px 1px rgba(60, 64, 67, 0.15);\n",
              "    fill: var(--button-hover-fill-color);\n",
              "  }\n",
              "\n",
              "  .colab-df-quickchart-complete:disabled,\n",
              "  .colab-df-quickchart-complete:disabled:hover {\n",
              "    background-color: var(--disabled-bg-color);\n",
              "    fill: var(--disabled-fill-color);\n",
              "    box-shadow: none;\n",
              "  }\n",
              "\n",
              "  .colab-df-spinner {\n",
              "    border: 2px solid var(--fill-color);\n",
              "    border-color: transparent;\n",
              "    border-bottom-color: var(--fill-color);\n",
              "    animation:\n",
              "      spin 1s steps(1) infinite;\n",
              "  }\n",
              "\n",
              "  @keyframes spin {\n",
              "    0% {\n",
              "      border-color: transparent;\n",
              "      border-bottom-color: var(--fill-color);\n",
              "      border-left-color: var(--fill-color);\n",
              "    }\n",
              "    20% {\n",
              "      border-color: transparent;\n",
              "      border-left-color: var(--fill-color);\n",
              "      border-top-color: var(--fill-color);\n",
              "    }\n",
              "    30% {\n",
              "      border-color: transparent;\n",
              "      border-left-color: var(--fill-color);\n",
              "      border-top-color: var(--fill-color);\n",
              "      border-right-color: var(--fill-color);\n",
              "    }\n",
              "    40% {\n",
              "      border-color: transparent;\n",
              "      border-right-color: var(--fill-color);\n",
              "      border-top-color: var(--fill-color);\n",
              "    }\n",
              "    60% {\n",
              "      border-color: transparent;\n",
              "      border-right-color: var(--fill-color);\n",
              "    }\n",
              "    80% {\n",
              "      border-color: transparent;\n",
              "      border-right-color: var(--fill-color);\n",
              "      border-bottom-color: var(--fill-color);\n",
              "    }\n",
              "    90% {\n",
              "      border-color: transparent;\n",
              "      border-bottom-color: var(--fill-color);\n",
              "    }\n",
              "  }\n",
              "</style>\n",
              "\n",
              "  <script>\n",
              "    async function quickchart(key) {\n",
              "      const quickchartButtonEl =\n",
              "        document.querySelector('#' + key + ' button');\n",
              "      quickchartButtonEl.disabled = true;  // To prevent multiple clicks.\n",
              "      quickchartButtonEl.classList.add('colab-df-spinner');\n",
              "      try {\n",
              "        const charts = await google.colab.kernel.invokeFunction(\n",
              "            'suggestCharts', [key], {});\n",
              "      } catch (error) {\n",
              "        console.error('Error during call to suggestCharts:', error);\n",
              "      }\n",
              "      quickchartButtonEl.classList.remove('colab-df-spinner');\n",
              "      quickchartButtonEl.classList.add('colab-df-quickchart-complete');\n",
              "    }\n",
              "    (() => {\n",
              "      let quickchartButtonEl =\n",
              "        document.querySelector('#df-492b1bfa-48ec-44f6-b62d-9694a98edffa button');\n",
              "      quickchartButtonEl.style.display =\n",
              "        google.colab.kernel.accessAllowed ? 'block' : 'none';\n",
              "    })();\n",
              "  </script>\n",
              "</div>\n",
              "\n",
              "    </div>\n",
              "  </div>\n"
            ],
            "application/vnd.google.colaboratory.intrinsic+json": {
              "type": "dataframe",
              "variable_name": "mergedata"
            }
          },
          "metadata": {},
          "execution_count": 63
        }
      ]
    },
    {
      "cell_type": "code",
      "source": [
        "mergedata.shape"
      ],
      "metadata": {
        "colab": {
          "base_uri": "https://localhost:8080/"
        },
        "id": "ETiRhjFB0DXM",
        "outputId": "a1dfdb47-63b4-4366-9d66-cbf31398fd8b"
      },
      "execution_count": 64,
      "outputs": [
        {
          "output_type": "execute_result",
          "data": {
            "text/plain": [
              "(16, 25)"
            ]
          },
          "metadata": {},
          "execution_count": 64
        }
      ]
    },
    {
      "cell_type": "code",
      "source": [
        "mergedata.columns"
      ],
      "metadata": {
        "colab": {
          "base_uri": "https://localhost:8080/"
        },
        "id": "Zl-7F3FF09E0",
        "outputId": "54d83a99-ef26-48db-d35e-80909990ab73"
      },
      "execution_count": 65,
      "outputs": [
        {
          "output_type": "execute_result",
          "data": {
            "text/plain": [
              "Index(['Session ID', 'User ID_x', 'Dish Name_x', 'Meal Type_x',\n",
              "       'Session Start', 'Session End', 'Duration (mins)', 'Session Rating',\n",
              "       'User Name', 'Age', 'Location', 'Registration Date', 'Phone', 'Email',\n",
              "       'Favorite Meal', 'Total Orders', 'Order ID', 'User ID_y', 'Order Date',\n",
              "       'Meal Type_y', 'Dish Name_y', 'Order Status', 'Amount (USD)',\n",
              "       'Time of Day', 'Rating'],\n",
              "      dtype='object')"
            ]
          },
          "metadata": {},
          "execution_count": 65
        }
      ]
    },
    {
      "cell_type": "markdown",
      "source": [
        "**Analyze Relationships**"
      ],
      "metadata": {
        "id": "wpYs0oXCESTB"
      }
    },
    {
      "cell_type": "markdown",
      "source": [
        "# Relationship Between Cooking Sessions and User Orders"
      ],
      "metadata": {
        "id": "TgAvMFziEbEj"
      }
    },
    {
      "cell_type": "code",
      "source": [
        "order_session = mergedata.groupby('Session ID')['Order ID'].nunique()\n",
        "print(\"Average Orders Per Session:\\n\", order_session.mean())\n",
        "\n",
        "plt.figure(figsize=(8, 5))\n",
        "sns.histplot(order_session, kde=True, bins=20)\n",
        "plt.title(\"Distribution of Orders per Cooking Session\")\n",
        "plt.xlabel(\"Number of Orders\")\n",
        "plt.ylabel(\"Frequency\")\n",
        "plt.show()"
      ],
      "metadata": {
        "colab": {
          "base_uri": "https://localhost:8080/",
          "height": 522
        },
        "id": "DIeUK2niG1M0",
        "outputId": "5893ec04-797b-43d6-ee76-0bd2e4607b6d"
      },
      "execution_count": 66,
      "outputs": [
        {
          "output_type": "stream",
          "name": "stdout",
          "text": [
            "Average Orders Per Session:\n",
            " 1.0\n"
          ]
        },
        {
          "output_type": "display_data",
          "data": {
            "text/plain": [
              "<Figure size 800x500 with 1 Axes>"
            ],
            "image/png": "[encoded data removed]"
          },
          "metadata": {}
        }
      ]
    },
    {
      "cell_type": "markdown",
      "source": [
        "**Average number of orders per cooking session is 1.0, indicating that customers generally order only one dish during each session.This shows a very low variation in the number of orders per session, highlighting that most sessions are single-order sessions.**\n",
        "\n",
        "*Recommendation:*\n",
        "\n",
        "**Encourage bulk or group orders by introducing discounts for ordering multiple dishes.**\n",
        "**Offer recommendations or \"frequently ordered together\" suggestions to inspire customers to order more than one item.**\n"
      ],
      "metadata": {
        "id": "5wS0LkGfMuxN"
      }
    },
    {
      "cell_type": "markdown",
      "source": [
        "# Popular Dishes"
      ],
      "metadata": {
        "id": "p-ZumNMBF3s7"
      }
    },
    {
      "cell_type": "code",
      "source": [
        "popular_dishes = mergedata['Dish Name_x'].value_counts().head(6)\n",
        "print(\"Top Popular Dishes:\\n\", popular_dishes)\n",
        "\n",
        "plt.figure(figsize=(10, 6))\n",
        "sns.barplot(x=popular_dishes.values, y=popular_dishes.index, palette=\"viridis\")\n",
        "plt.title(\"Top Popular Dishes\")\n",
        "plt.xlabel(\"Number of Orders\")\n",
        "plt.ylabel(\"Dish Name\")\n",
        "plt.show()"
      ],
      "metadata": {
        "colab": {
          "base_uri": "https://localhost:8080/",
          "height": 827
        },
        "id": "xYMJbKikHDIh",
        "outputId": "fab1982f-a59b-4b52-b7e5-dba81099e8fe"
      },
      "execution_count": 67,
      "outputs": [
        {
          "output_type": "stream",
          "name": "stdout",
          "text": [
            "Top Popular Dishes:\n",
            " Dish Name_x\n",
            "Spaghetti          4\n",
            "Grilled Chicken    4\n",
            "Caesar Salad       3\n",
            "Pancakes           2\n",
            "Veggie Burger      2\n",
            "Oatmeal            1\n",
            "Name: count, dtype: int64\n"
          ]
        },
        {
          "output_type": "stream",
          "name": "stderr",
          "text": [
            "<ipython-input-67-b13455afa8a6>:5: FutureWarning: \n",
            "\n",
            "Passing `palette` without assigning `hue` is deprecated and will be removed in v0.14.0. Assign the `y` variable to `hue` and set `legend=False` for the same effect.\n",
            "\n",
            "  sns.barplot(x=popular_dishes.values, y=popular_dishes.index, palette=\"viridis\")\n"
          ]
        },
        {
          "output_type": "display_data",
          "data": {
            "text/plain": [
              "<Figure size 1000x600 with 1 Axes>"
            ],
            "image/png": "[encoded data removed]"
          },
          "metadata": {}
        }
      ]
    },
    {
      "cell_type": "markdown",
      "source": [
        "**Spaghetti and Grilled Chicken are customer favorites, making them reliable choices to promote as signature dishes.**\n",
        "\n",
        "**Focus on marketing and upselling these dishes to drive more orders. Consider offering meal combos featuring these items to boost sales further.**"
      ],
      "metadata": {
        "id": "Uzl1oXE7L8Am"
      }
    },
    {
      "cell_type": "code",
      "source": [
        "mergedata['Age Group'] = pd.cut(mergedata['Age'], bins=[18, 25, 35, 50, 65], labels=['18-25', '26-35', '36-50', '51-65'])\n",
        "rgroup = mergedata.groupby('Age Group')['Rating'].mean()\n",
        "print(\"Average Ratings by Age Group:\\n\", rgroup)\n",
        "\n",
        "plt.figure(figsize=(8, 5))\n",
        "sns.barplot(x=rgroup.index, y=rgroup.values, palette=\"coolwarm\")\n",
        "plt.title(\"Average Ratings by Age Group\")\n",
        "plt.xlabel(\"Age Group\")\n",
        "plt.ylabel(\"Average Rating\")\n",
        "plt.show()"
      ],
      "metadata": {
        "colab": {
          "base_uri": "https://localhost:8080/",
          "height": 750
        },
        "id": "Sora44sBHqmW",
        "outputId": "ddbe29c2-4664-408b-b8e2-e596f947e5d3"
      },
      "execution_count": 68,
      "outputs": [
        {
          "output_type": "stream",
          "name": "stderr",
          "text": [
            "<ipython-input-68-93c862cdb3da>:2: FutureWarning: The default of observed=False is deprecated and will be changed to True in a future version of pandas. Pass observed=False to retain current behavior or observed=True to adopt the future default and silence this warning.\n",
            "  rgroup = mergedata.groupby('Age Group')['Rating'].mean()\n",
            "<ipython-input-68-93c862cdb3da>:6: FutureWarning: \n",
            "\n",
            "Passing `palette` without assigning `hue` is deprecated and will be removed in v0.14.0. Assign the `x` variable to `hue` and set `legend=False` for the same effect.\n",
            "\n",
            "  sns.barplot(x=rgroup.index, y=rgroup.values, palette=\"coolwarm\")\n"
          ]
        },
        {
          "output_type": "stream",
          "name": "stdout",
          "text": [
            "Average Ratings by Age Group:\n",
            " Age Group\n",
            "18-25    5.000000\n",
            "26-35    4.181818\n",
            "36-50    4.392857\n",
            "51-65         NaN\n",
            "Name: Rating, dtype: float64\n"
          ]
        },
        {
          "output_type": "display_data",
          "data": {
            "text/plain": [
              "<Figure size 800x500 with 1 Axes>"
            ],
            "image/png": "[encoded data removed]"
          },
          "metadata": {}
        }
      ]
    },
    {
      "cell_type": "markdown",
      "source": [
        "**Insight: Younger customers (18-25) are highly satisfied, while the 26-35 group shows a slightly lower satisfaction rate. The 51-65 group is underrepresented in ratings and likely in engagement.**\n",
        "\n",
        "*Recommendation:*\n",
        "\n",
        "**Focus on maintaining high-quality service for younger customers to sustain their satisfaction.**\n",
        "**Investigate potential reasons for slightly lower ratings among the 26-35 age group and address their preferences (e.g., faster delivery, diverse options).**\n",
        "**Develop strategies to engage older customers (51-65), such as personalized menus or loyalty programs tailored to their tastes.**\n"
      ],
      "metadata": {
        "id": "BTFKtID6NShN"
      }
    },
    {
      "cell_type": "code",
      "source": [
        "mergedata['Age Group'] = pd.cut(mergedata['Age'], bins=[18, 25, 35, 50, 65], labels=['18-25', '26-35', '36-50', '51-65'])\n",
        "sage = mergedata.groupby('Age Group')['Session ID'].nunique()\n",
        "print(\"Cooking Sessions by Age Group:\\n\", sage)\n",
        "\n",
        "plt.figure(figsize=(8, 5))\n",
        "sns.barplot(x=sage.index, y=sage.values, palette=\"plasma\")\n",
        "plt.title(\"Cooking Sessions by Age Group\")\n",
        "plt.xlabel(\"Age Group\")\n",
        "plt.ylabel(\"Number of Cooking Sessions\")\n",
        "plt.show()"
      ],
      "metadata": {
        "id": "wEuJgcMxKJmE",
        "colab": {
          "base_uri": "https://localhost:8080/",
          "height": 750
        },
        "outputId": "f619b86e-6c08-4bc3-a031-4e8bcd5e4ca5"
      },
      "execution_count": 69,
      "outputs": [
        {
          "output_type": "stream",
          "name": "stderr",
          "text": [
            "<ipython-input-69-4488e762f8c8>:2: FutureWarning: The default of observed=False is deprecated and will be changed to True in a future version of pandas. Pass observed=False to retain current behavior or observed=True to adopt the future default and silence this warning.\n",
            "  sage = mergedata.groupby('Age Group')['Session ID'].nunique()\n",
            "<ipython-input-69-4488e762f8c8>:6: FutureWarning: \n",
            "\n",
            "Passing `palette` without assigning `hue` is deprecated and will be removed in v0.14.0. Assign the `x` variable to `hue` and set `legend=False` for the same effect.\n",
            "\n",
            "  sns.barplot(x=sage.index, y=sage.values, palette=\"plasma\")\n"
          ]
        },
        {
          "output_type": "stream",
          "name": "stdout",
          "text": [
            "Cooking Sessions by Age Group:\n",
            " Age Group\n",
            "18-25     1\n",
            "26-35    11\n",
            "36-50     4\n",
            "51-65     0\n",
            "Name: Session ID, dtype: int64\n"
          ]
        },
        {
          "output_type": "display_data",
          "data": {
            "text/plain": [
              "<Figure size 800x500 with 1 Axes>"
            ],
            "image/png": "[encoded data removed]"
          },
          "metadata": {}
        }
      ]
    },
    {
      "cell_type": "markdown",
      "source": [
        "**Insight: The 26-35 age group is the most active in cooking sessions, while the 51-65 group is entirely absent, indicating a potential untapped audience.**\n",
        "\n",
        "*Recommendation:*\n",
        "\n",
        "*   **26-35 Age Group:** Focus on promotions and special offers to keep them engaged, like exclusive discounts or loyalty rewards.\n",
        "*   **18-25 Age Group:** Attract them with fun activities like cooking challenges, games, or student discounts.\n",
        "\n",
        "*   **51-65 Age Group**: Create simple programs that highlight the benefits of home cooking, like easy recipes and health-focused meal plans.\n",
        "\n",
        "\n",
        "\n",
        "\n",
        "\n",
        "\n",
        "\n",
        "\n",
        "\n"
      ],
      "metadata": {
        "id": "DIdC-e-cN--U"
      }
    },
    {
      "cell_type": "code",
      "source": [
        "avg_duration_by_meal = cooking_sessions.groupby('Meal Type')['Duration (mins)'].mean()\n",
        "\n",
        "plt.figure(figsize=(5, 5))\n",
        "sns.lineplot(x=avg_duration_by_meal.index, y=avg_duration_by_meal.values, marker='o', color='teal')\n",
        "plt.title(\"Average Duration of Cooking Sessions by Meal Type\")\n",
        "plt.xlabel(\"Meal Type\")\n",
        "plt.ylabel(\"Average Duration (minutes)\")\n",
        "plt.xticks(rotation=45)\n",
        "plt.grid(True)\n",
        "plt.show()"
      ],
      "metadata": {
        "colab": {
          "base_uri": "https://localhost:8080/",
          "height": 530
        },
        "id": "NFFaNp4K1Sr2",
        "outputId": "092c0758-3da9-4db8-e9b0-455e3ece0483"
      },
      "execution_count": 70,
      "outputs": [
        {
          "output_type": "display_data",
          "data": {
            "text/plain": [
              "<Figure size 500x500 with 1 Axes>"
            ],
            "image/png": "[encoded data removed]"
          },
          "metadata": {}
        }
      ]
    },
    {
      "cell_type": "code",
      "source": [
        "# Get top 5 users by order frequency\n",
        "top_users = cooking_sessions['User ID'].value_counts().head(5)\n",
        "\n",
        "plt.figure(figsize=(10, 6))\n",
        "sns.barplot(x=top_users.values, y=top_users.index, palette=\"coolwarm\")\n",
        "plt.title(\"Top 5 Users by Order Frequency\")\n",
        "plt.xlabel(\"Number of Orders\")\n",
        "plt.ylabel(\"User IDs\")\n",
        "plt.show()"
      ],
      "metadata": {
        "colab": {
          "base_uri": "https://localhost:8080/",
          "height": 671
        },
        "id": "ypWs_Aum1Su5",
        "outputId": "80bf26d8-d954-43ca-8b5d-57684f83f2af"
      },
      "execution_count": 71,
      "outputs": [
        {
          "output_type": "stream",
          "name": "stderr",
          "text": [
            "<ipython-input-71-a2712b7e16b6>:5: FutureWarning: \n",
            "\n",
            "Passing `palette` without assigning `hue` is deprecated and will be removed in v0.14.0. Assign the `y` variable to `hue` and set `legend=False` for the same effect.\n",
            "\n",
            "  sns.barplot(x=top_users.values, y=top_users.index, palette=\"coolwarm\")\n"
          ]
        },
        {
          "output_type": "display_data",
          "data": {
            "text/plain": [
              "<Figure size 1000x600 with 1 Axes>"
            ],
            "image/png": "[encoded data removed]"
          },
          "metadata": {}
        }
      ]
    },
    {
      "cell_type": "markdown",
      "source": [
        "**Insights**\n",
        "\n",
        "*  U001 and U002 are the most frequent users, indicating strong engagement.\n",
        "*   Order frequency drops slightly for U004 and U005.\n",
        "*   Top users show balanced engagement overall\n",
        "\n",
        "**Recommendation**\n",
        "\n",
        "\n",
        "*   Reward loyal users (U001, U002) with discounts or loyalty programs\n",
        "*   Target U004 and U005 with promotions to boost activity\n",
        "*   Personalize offers based on user preferences to sustain engagement.\n",
        "\n",
        "\n",
        "\n",
        "\n",
        "\n",
        "\n"
      ],
      "metadata": {
        "id": "djKnmaF1QpMX"
      }
    },
    {
      "cell_type": "code",
      "source": [
        "# Analyze Session Duration by Meal Type\n",
        "session_meal = cooking_sessions.groupby('Meal Type')['Duration (mins)'].mean()\n",
        "\n",
        "plt.figure(figsize=(8, 5))\n",
        "sns.barplot(x=session_meal.index, y=session_meal.values, palette=\"plasma\")\n",
        "plt.title(\"Average Session Duration by Meal Type\")\n",
        "plt.xlabel(\"Meal Type\")\n",
        "plt.ylabel(\"Duration (mins)\")\n",
        "plt.show()"
      ],
      "metadata": {
        "colab": {
          "base_uri": "https://localhost:8080/",
          "height": 594
        },
        "id": "e_2SVVJB1Sya",
        "outputId": "f53b99b8-6033-4582-a3c8-f505660eb6fa"
      },
      "execution_count": 72,
      "outputs": [
        {
          "output_type": "stream",
          "name": "stderr",
          "text": [
            "<ipython-input-72-16125634af1f>:5: FutureWarning: \n",
            "\n",
            "Passing `palette` without assigning `hue` is deprecated and will be removed in v0.14.0. Assign the `x` variable to `hue` and set `legend=False` for the same effect.\n",
            "\n",
            "  sns.barplot(x=session_meal.index, y=session_meal.values, palette=\"plasma\")\n"
          ]
        },
        {
          "output_type": "display_data",
          "data": {
            "text/plain": [
              "<Figure size 800x500 with 1 Axes>"
            ],
            "image/png": "[encoded data removed]"
          },
          "metadata": {}
        }
      ]
    },
    {
      "cell_type": "code",
      "source": [
        "# Calculate total spending per user\n",
        "avg_user = order_details.groupby('User ID')['Amount (USD)'].sum().sort_values(ascending=False)\n",
        "\n",
        "plt.figure(figsize=(10, 6))\n",
        "sns.barplot(x=avg_user.head(10).values, y=avg_user.head(10).index, palette=\"mako\")\n",
        "plt.title(\"Top 10 Users by Total Spending\")\n",
        "plt.xlabel(\"Total Spending (USD)\")\n",
        "plt.ylabel(\"User ID\")\n",
        "plt.show()"
      ],
      "metadata": {
        "colab": {
          "base_uri": "https://localhost:8080/",
          "height": 671
        },
        "id": "S6zRMG0R1S2Z",
        "outputId": "731fbd10-7adf-4f19-b6ab-c7f86010707c"
      },
      "execution_count": 73,
      "outputs": [
        {
          "output_type": "stream",
          "name": "stderr",
          "text": [
            "<ipython-input-73-a5824e143b31>:5: FutureWarning: \n",
            "\n",
            "Passing `palette` without assigning `hue` is deprecated and will be removed in v0.14.0. Assign the `y` variable to `hue` and set `legend=False` for the same effect.\n",
            "\n",
            "  sns.barplot(x=avg_user.head(10).values, y=avg_user.head(10).index, palette=\"mako\")\n"
          ]
        },
        {
          "output_type": "display_data",
          "data": {
            "text/plain": [
              "<Figure size 1000x600 with 1 Axes>"
            ],
            "image/png": "[encoded data removed]"
          },
          "metadata": {}
        }
      ]
    },
    {
      "cell_type": "markdown",
      "source": [
        "**Insights**:\n",
        "U001 is the top spender, followed by U003 and U002.\n",
        "Spending decreases gradually from U001 to U008.\n",
        "Moderate spenders (U005, U004) offer growth opportunities.\n",
        "\n",
        "**Recommendations**:\n",
        "Reward top spenders (U001, U003, U002) with loyalty perks.\n",
        "Upsell and offer bundles to moderate spenders (U005, U004).\n",
        "Analyze spending patterns to optimize marketing strategies.\n",
        "\n",
        "\n",
        "\n",
        "\n",
        "\n"
      ],
      "metadata": {
        "id": "FQ3e8LePRhr3"
      }
    },
    {
      "cell_type": "code",
      "source": [
        "# Select only numeric columns\n",
        "numeric_columns = mergedata.select_dtypes(include=['number'])\n",
        "\n",
        "correlation_matrix = numeric_columns.corr()\n",
        "plt.figure(figsize=(10, 6))\n",
        "sns.heatmap(correlation_matrix, annot=True, cmap=\"coolwarm\", fmt=\".2f\", linewidths=0.5)\n",
        "plt.title(\"Correlation Matrix of Numeric Variables\")\n",
        "plt.show()\n"
      ],
      "metadata": {
        "colab": {
          "base_uri": "https://localhost:8080/",
          "height": 640
        },
        "id": "hcI00Yed-UNM",
        "outputId": "68aa9fab-e5d0-4e4d-f98e-5558940abbfe"
      },
      "execution_count": 74,
      "outputs": [
        {
          "output_type": "display_data",
          "data": {
            "text/plain": [
              "<Figure size 1000x600 with 2 Axes>"
            ],
            "image/png": "[encoded data removed]"
          },
          "metadata": {}
        }
      ]
    },
    {
      "cell_type": "markdown",
      "source": [
        "Insights Strong Correlations:\n",
        "\n",
        "**Duration (mins) and Session Rating (0.69):** Longer sessions lead to higher ratings.\n",
        "**Duration (mins) and Amount (USD) (0.65):** Longer sessions correspond to higher spending.\n",
        "**Session Rating and Rating (0.61):** Positive correlation between user ratings and session ratings.\n",
        "\n",
        "**Moderate Correlations:**\n",
        "\n",
        "**Age and Total Orders (0.57):** Older users tend to place more orders.\n",
        "**Amount (USD) and Rating (0.58):** Higher spending correlates with better ratings.\n",
        "\n",
        "**Weak/Negative Correlations:**\n",
        "\n",
        "Age and most other variables show weak or negative correlations.\n",
        "\n",
        "**Recommendation:**\n",
        "\n",
        "\n",
        "*  Encourage Longer Sessions\n",
        "*   Target Older Users\n",
        "*   Enhance User Experience\n",
        "*   Reward High Spenders\n",
        "\n",
        "\n",
        "\n",
        "\n"
      ],
      "metadata": {
        "id": "sykQUXiWSPyG"
      }
    },
    {
      "cell_type": "markdown",
      "source": [
        "# Final Business Recommendations\n",
        "\n",
        "**Menu Optimization and Promotion**\n",
        "\n",
        "*Highlight Popular Dishes:*\n",
        "\n",
        "Promote top-performing dishes such as Spaghetti, Grilled Chicken, and Caesar Salad in marketing campaigns to attract attention.\n",
        "\n",
        "*Create Combo Offers:*\n",
        "\n",
        "Introduce combo deals and suggest add-ons during the ordering process to increase basket sizes.\n",
        "\n",
        "**# Customer Engagement**\n",
        "\n",
        "*Loyalty Rewards:*\n",
        "\n",
        "Implement a loyalty program offering points or free items for frequent customers with higher order values.\n",
        "\n",
        "*Leverage Feedback:*\n",
        "\n",
        "Actively gather and analyze customer feedback to address pain points and improve satisfaction.\n",
        "\n",
        "**# Targeted Marketing**\n",
        "\n",
        "*Re-Engage Underrepresented Groups:*\n",
        "\n",
        "Use personalized emails or app notifications to re-engage customers in underrepresented age groups, such as 51-65.\n",
        "\n",
        "*Age-Specific Offers:*\n",
        "\n",
        "Provide tailored deals like family packages for older customers and student discounts for younger ones (18-25).\n",
        "\n",
        "**Enhanced Participation in Cooking Sessions**\n",
        "\n",
        "*Promote Interactive Experiences:*\n",
        "\n",
        "Market cooking sessions as fun, engaging activities for all customers, with a focus on less active groups.\n",
        "\n",
        "*Themed Events:*\n",
        "\n",
        "Host themed cooking events or live-streamed sessions to increase participation and attract diverse audiences.\n",
        "\n",
        "**Data-Driven Improvements**\n",
        "\n",
        "*Monitor Trends:*\n",
        "\n",
        "Regularly analyze order patterns, spending behavior, and ratings to refine operations and offerings.\n",
        "\n",
        "*Focus on Key Demographics:*\n",
        "\n",
        "Invest in understanding the needs of the 26-35 age group to enhance satisfaction and loyalty.\n",
        "\n",
        "# Final Recommendations\n",
        "\n",
        "**Invest in Analytics:**\n",
        "\n",
        "Use data-driven insights to continuously refine marketing strategies, menu offerings, and customer experiences.\n",
        "\n",
        "**Enhance User Experience:**\n",
        "\n",
        "Ensure a seamless and enjoyable user experience in all touchpoints, from ordering to cooking sessions.\n",
        "\n",
        "**Reward High Spenders and Frequent Users:**\n",
        "\n",
        "Provide exclusive rewards and personalized offers to top spenders and loyal customers to sustain engagement.\n",
        "\n",
        "**Engage Broader Audiences:**\n",
        "\n",
        "Use diverse marketing strategies like themed events, age-specific deals, and loyalty programs to attract and retain customers across all demographics.\n",
        "\n",
        "**Optimize Promotions:**\n",
        "\n",
        "Experiment with different promotional strategies to find the most effective ways to boost sales."
      ],
      "metadata": {
        "id": "JGUO7e0NU8F1"
      }
    }
  ]
}